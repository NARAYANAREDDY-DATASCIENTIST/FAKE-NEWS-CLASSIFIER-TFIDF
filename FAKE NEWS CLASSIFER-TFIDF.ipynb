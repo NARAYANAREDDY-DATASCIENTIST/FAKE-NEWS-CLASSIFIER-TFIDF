{
 "cells": [
  {
   "cell_type": "markdown",
   "metadata": {},
   "source": [
    "# FAKE NEWS CLASSIFER-TFIDF AND HASHINGVECTORIZER"
   ]
  },
  {
   "cell_type": "code",
   "execution_count": 1,
   "metadata": {},
   "outputs": [],
   "source": [
    "# IMPORT LIBARIES"
   ]
  },
  {
   "cell_type": "code",
   "execution_count": 2,
   "metadata": {},
   "outputs": [],
   "source": [
    "import pandas as pd"
   ]
  },
  {
   "cell_type": "code",
   "execution_count": 3,
   "metadata": {},
   "outputs": [],
   "source": [
    "df=pd.read_csv('FAKENEWS/train.csv')"
   ]
  },
  {
   "cell_type": "code",
   "execution_count": 4,
   "metadata": {},
   "outputs": [
    {
     "data": {
      "text/html": [
       "<div>\n",
       "<style scoped>\n",
       "    .dataframe tbody tr th:only-of-type {\n",
       "        vertical-align: middle;\n",
       "    }\n",
       "\n",
       "    .dataframe tbody tr th {\n",
       "        vertical-align: top;\n",
       "    }\n",
       "\n",
       "    .dataframe thead th {\n",
       "        text-align: right;\n",
       "    }\n",
       "</style>\n",
       "<table border=\"1\" class=\"dataframe\">\n",
       "  <thead>\n",
       "    <tr style=\"text-align: right;\">\n",
       "      <th></th>\n",
       "      <th>id</th>\n",
       "      <th>title</th>\n",
       "      <th>author</th>\n",
       "      <th>text</th>\n",
       "      <th>label</th>\n",
       "    </tr>\n",
       "  </thead>\n",
       "  <tbody>\n",
       "    <tr>\n",
       "      <td>0</td>\n",
       "      <td>0</td>\n",
       "      <td>House Dem Aide: We Didn’t Even See Comey’s Let...</td>\n",
       "      <td>Darrell Lucus</td>\n",
       "      <td>House Dem Aide: We Didn’t Even See Comey’s Let...</td>\n",
       "      <td>1</td>\n",
       "    </tr>\n",
       "    <tr>\n",
       "      <td>1</td>\n",
       "      <td>1</td>\n",
       "      <td>FLYNN: Hillary Clinton, Big Woman on Campus - ...</td>\n",
       "      <td>Daniel J. Flynn</td>\n",
       "      <td>Ever get the feeling your life circles the rou...</td>\n",
       "      <td>0</td>\n",
       "    </tr>\n",
       "    <tr>\n",
       "      <td>2</td>\n",
       "      <td>2</td>\n",
       "      <td>Why the Truth Might Get You Fired</td>\n",
       "      <td>Consortiumnews.com</td>\n",
       "      <td>Why the Truth Might Get You Fired October 29, ...</td>\n",
       "      <td>1</td>\n",
       "    </tr>\n",
       "    <tr>\n",
       "      <td>3</td>\n",
       "      <td>3</td>\n",
       "      <td>15 Civilians Killed In Single US Airstrike Hav...</td>\n",
       "      <td>Jessica Purkiss</td>\n",
       "      <td>Videos 15 Civilians Killed In Single US Airstr...</td>\n",
       "      <td>1</td>\n",
       "    </tr>\n",
       "    <tr>\n",
       "      <td>4</td>\n",
       "      <td>4</td>\n",
       "      <td>Iranian woman jailed for fictional unpublished...</td>\n",
       "      <td>Howard Portnoy</td>\n",
       "      <td>Print \\nAn Iranian woman has been sentenced to...</td>\n",
       "      <td>1</td>\n",
       "    </tr>\n",
       "  </tbody>\n",
       "</table>\n",
       "</div>"
      ],
      "text/plain": [
       "   id                                              title              author  \\\n",
       "0   0  House Dem Aide: We Didn’t Even See Comey’s Let...       Darrell Lucus   \n",
       "1   1  FLYNN: Hillary Clinton, Big Woman on Campus - ...     Daniel J. Flynn   \n",
       "2   2                  Why the Truth Might Get You Fired  Consortiumnews.com   \n",
       "3   3  15 Civilians Killed In Single US Airstrike Hav...     Jessica Purkiss   \n",
       "4   4  Iranian woman jailed for fictional unpublished...      Howard Portnoy   \n",
       "\n",
       "                                                text  label  \n",
       "0  House Dem Aide: We Didn’t Even See Comey’s Let...      1  \n",
       "1  Ever get the feeling your life circles the rou...      0  \n",
       "2  Why the Truth Might Get You Fired October 29, ...      1  \n",
       "3  Videos 15 Civilians Killed In Single US Airstr...      1  \n",
       "4  Print \\nAn Iranian woman has been sentenced to...      1  "
      ]
     },
     "execution_count": 4,
     "metadata": {},
     "output_type": "execute_result"
    }
   ],
   "source": [
    "df.head()"
   ]
  },
  {
   "cell_type": "code",
   "execution_count": 5,
   "metadata": {},
   "outputs": [],
   "source": [
    "# sampling the data\n",
    "df1=df.sample(frac=0.005,random_state=0)\n"
   ]
  },
  {
   "cell_type": "code",
   "execution_count": 6,
   "metadata": {},
   "outputs": [],
   "source": [
    "# SEPARATE THE DATA INTO INDPENDENT AND DEPEDENT DATA"
   ]
  },
  {
   "cell_type": "code",
   "execution_count": 7,
   "metadata": {},
   "outputs": [],
   "source": [
    "x=df1.drop('label',axis=1)"
   ]
  },
  {
   "cell_type": "code",
   "execution_count": 8,
   "metadata": {},
   "outputs": [
    {
     "data": {
      "text/html": [
       "<div>\n",
       "<style scoped>\n",
       "    .dataframe tbody tr th:only-of-type {\n",
       "        vertical-align: middle;\n",
       "    }\n",
       "\n",
       "    .dataframe tbody tr th {\n",
       "        vertical-align: top;\n",
       "    }\n",
       "\n",
       "    .dataframe thead th {\n",
       "        text-align: right;\n",
       "    }\n",
       "</style>\n",
       "<table border=\"1\" class=\"dataframe\">\n",
       "  <thead>\n",
       "    <tr style=\"text-align: right;\">\n",
       "      <th></th>\n",
       "      <th>id</th>\n",
       "      <th>title</th>\n",
       "      <th>author</th>\n",
       "      <th>text</th>\n",
       "    </tr>\n",
       "  </thead>\n",
       "  <tbody>\n",
       "    <tr>\n",
       "      <td>20386</td>\n",
       "      <td>20386</td>\n",
       "      <td>Bob Dylan’s Nobel Prize: A Podcast Discussion ...</td>\n",
       "      <td>Jon Pareles</td>\n",
       "      <td>Listen to this week’s podcast | Subscribe: iTu...</td>\n",
       "    </tr>\n",
       "    <tr>\n",
       "      <td>16794</td>\n",
       "      <td>16794</td>\n",
       "      <td>Nuclear Weapons in South Korea under Discussio...</td>\n",
       "      <td>Author</td>\n",
       "      <td>Country: South Korea In October 2016, the Pres...</td>\n",
       "    </tr>\n",
       "    <tr>\n",
       "      <td>5500</td>\n",
       "      <td>5500</td>\n",
       "      <td>Solar Storm Alert</td>\n",
       "      <td>No Author</td>\n",
       "      <td>October 27, 2016 Solar winds triggered a giant...</td>\n",
       "    </tr>\n",
       "    <tr>\n",
       "      <td>9398</td>\n",
       "      <td>9398</td>\n",
       "      <td>Keith Lamont Scott Was Killed by Two Gunshot W...</td>\n",
       "      <td>Niraj Chokshi</td>\n",
       "      <td>A    black man whose fatal shooting by the pol...</td>\n",
       "    </tr>\n",
       "    <tr>\n",
       "      <td>4266</td>\n",
       "      <td>4266</td>\n",
       "      <td>Tom Cotton: Paul Ryan’s Healthcare Bill Does N...</td>\n",
       "      <td>Matthew Boyle</td>\n",
       "      <td>Sen. Tom Cotton ( ) a leading GOP senator, is ...</td>\n",
       "    </tr>\n",
       "  </tbody>\n",
       "</table>\n",
       "</div>"
      ],
      "text/plain": [
       "          id                                              title  \\\n",
       "20386  20386  Bob Dylan’s Nobel Prize: A Podcast Discussion ...   \n",
       "16794  16794  Nuclear Weapons in South Korea under Discussio...   \n",
       "5500    5500                                  Solar Storm Alert   \n",
       "9398    9398  Keith Lamont Scott Was Killed by Two Gunshot W...   \n",
       "4266    4266  Tom Cotton: Paul Ryan’s Healthcare Bill Does N...   \n",
       "\n",
       "              author                                               text  \n",
       "20386    Jon Pareles  Listen to this week’s podcast | Subscribe: iTu...  \n",
       "16794         Author  Country: South Korea In October 2016, the Pres...  \n",
       "5500       No Author  October 27, 2016 Solar winds triggered a giant...  \n",
       "9398   Niraj Chokshi  A    black man whose fatal shooting by the pol...  \n",
       "4266   Matthew Boyle  Sen. Tom Cotton ( ) a leading GOP senator, is ...  "
      ]
     },
     "execution_count": 8,
     "metadata": {},
     "output_type": "execute_result"
    }
   ],
   "source": [
    "x.head()"
   ]
  },
  {
   "cell_type": "code",
   "execution_count": 9,
   "metadata": {},
   "outputs": [],
   "source": [
    "y=df1['label']"
   ]
  },
  {
   "cell_type": "code",
   "execution_count": 10,
   "metadata": {},
   "outputs": [
    {
     "data": {
      "text/plain": [
       "20386    0\n",
       "16794    1\n",
       "5500     1\n",
       "9398     0\n",
       "4266     0\n",
       "Name: label, dtype: int64"
      ]
     },
     "execution_count": 10,
     "metadata": {},
     "output_type": "execute_result"
    }
   ],
   "source": [
    "y.head()"
   ]
  },
  {
   "cell_type": "code",
   "execution_count": 11,
   "metadata": {},
   "outputs": [
    {
     "data": {
      "text/plain": [
       "(104, 5)"
      ]
     },
     "execution_count": 11,
     "metadata": {},
     "output_type": "execute_result"
    }
   ],
   "source": [
    "df1.shape"
   ]
  },
  {
   "cell_type": "code",
   "execution_count": 12,
   "metadata": {},
   "outputs": [],
   "source": [
    "# PREPROCESSING DATA"
   ]
  },
  {
   "cell_type": "code",
   "execution_count": 13,
   "metadata": {},
   "outputs": [],
   "source": [
    "df1=df1.dropna()"
   ]
  },
  {
   "cell_type": "code",
   "execution_count": 14,
   "metadata": {},
   "outputs": [
    {
     "data": {
      "text/html": [
       "<div>\n",
       "<style scoped>\n",
       "    .dataframe tbody tr th:only-of-type {\n",
       "        vertical-align: middle;\n",
       "    }\n",
       "\n",
       "    .dataframe tbody tr th {\n",
       "        vertical-align: top;\n",
       "    }\n",
       "\n",
       "    .dataframe thead th {\n",
       "        text-align: right;\n",
       "    }\n",
       "</style>\n",
       "<table border=\"1\" class=\"dataframe\">\n",
       "  <thead>\n",
       "    <tr style=\"text-align: right;\">\n",
       "      <th></th>\n",
       "      <th>id</th>\n",
       "      <th>title</th>\n",
       "      <th>author</th>\n",
       "      <th>text</th>\n",
       "      <th>label</th>\n",
       "    </tr>\n",
       "  </thead>\n",
       "  <tbody>\n",
       "    <tr>\n",
       "      <td>20386</td>\n",
       "      <td>20386</td>\n",
       "      <td>Bob Dylan’s Nobel Prize: A Podcast Discussion ...</td>\n",
       "      <td>Jon Pareles</td>\n",
       "      <td>Listen to this week’s podcast | Subscribe: iTu...</td>\n",
       "      <td>0</td>\n",
       "    </tr>\n",
       "    <tr>\n",
       "      <td>16794</td>\n",
       "      <td>16794</td>\n",
       "      <td>Nuclear Weapons in South Korea under Discussio...</td>\n",
       "      <td>Author</td>\n",
       "      <td>Country: South Korea In October 2016, the Pres...</td>\n",
       "      <td>1</td>\n",
       "    </tr>\n",
       "    <tr>\n",
       "      <td>5500</td>\n",
       "      <td>5500</td>\n",
       "      <td>Solar Storm Alert</td>\n",
       "      <td>No Author</td>\n",
       "      <td>October 27, 2016 Solar winds triggered a giant...</td>\n",
       "      <td>1</td>\n",
       "    </tr>\n",
       "    <tr>\n",
       "      <td>9398</td>\n",
       "      <td>9398</td>\n",
       "      <td>Keith Lamont Scott Was Killed by Two Gunshot W...</td>\n",
       "      <td>Niraj Chokshi</td>\n",
       "      <td>A    black man whose fatal shooting by the pol...</td>\n",
       "      <td>0</td>\n",
       "    </tr>\n",
       "    <tr>\n",
       "      <td>4266</td>\n",
       "      <td>4266</td>\n",
       "      <td>Tom Cotton: Paul Ryan’s Healthcare Bill Does N...</td>\n",
       "      <td>Matthew Boyle</td>\n",
       "      <td>Sen. Tom Cotton ( ) a leading GOP senator, is ...</td>\n",
       "      <td>0</td>\n",
       "    </tr>\n",
       "  </tbody>\n",
       "</table>\n",
       "</div>"
      ],
      "text/plain": [
       "          id                                              title  \\\n",
       "20386  20386  Bob Dylan’s Nobel Prize: A Podcast Discussion ...   \n",
       "16794  16794  Nuclear Weapons in South Korea under Discussio...   \n",
       "5500    5500                                  Solar Storm Alert   \n",
       "9398    9398  Keith Lamont Scott Was Killed by Two Gunshot W...   \n",
       "4266    4266  Tom Cotton: Paul Ryan’s Healthcare Bill Does N...   \n",
       "\n",
       "              author                                               text  label  \n",
       "20386    Jon Pareles  Listen to this week’s podcast | Subscribe: iTu...      0  \n",
       "16794         Author  Country: South Korea In October 2016, the Pres...      1  \n",
       "5500       No Author  October 27, 2016 Solar winds triggered a giant...      1  \n",
       "9398   Niraj Chokshi  A    black man whose fatal shooting by the pol...      0  \n",
       "4266   Matthew Boyle  Sen. Tom Cotton ( ) a leading GOP senator, is ...      0  "
      ]
     },
     "execution_count": 14,
     "metadata": {},
     "output_type": "execute_result"
    }
   ],
   "source": [
    "df1.head()"
   ]
  },
  {
   "cell_type": "code",
   "execution_count": 15,
   "metadata": {},
   "outputs": [
    {
     "data": {
      "text/html": [
       "<div>\n",
       "<style scoped>\n",
       "    .dataframe tbody tr th:only-of-type {\n",
       "        vertical-align: middle;\n",
       "    }\n",
       "\n",
       "    .dataframe tbody tr th {\n",
       "        vertical-align: top;\n",
       "    }\n",
       "\n",
       "    .dataframe thead th {\n",
       "        text-align: right;\n",
       "    }\n",
       "</style>\n",
       "<table border=\"1\" class=\"dataframe\">\n",
       "  <thead>\n",
       "    <tr style=\"text-align: right;\">\n",
       "      <th></th>\n",
       "      <th>index</th>\n",
       "      <th>id</th>\n",
       "      <th>title</th>\n",
       "      <th>author</th>\n",
       "      <th>text</th>\n",
       "      <th>label</th>\n",
       "    </tr>\n",
       "  </thead>\n",
       "  <tbody>\n",
       "    <tr>\n",
       "      <td>0</td>\n",
       "      <td>20386</td>\n",
       "      <td>20386</td>\n",
       "      <td>Bob Dylan’s Nobel Prize: A Podcast Discussion ...</td>\n",
       "      <td>Jon Pareles</td>\n",
       "      <td>Listen to this week’s podcast | Subscribe: iTu...</td>\n",
       "      <td>0</td>\n",
       "    </tr>\n",
       "    <tr>\n",
       "      <td>1</td>\n",
       "      <td>16794</td>\n",
       "      <td>16794</td>\n",
       "      <td>Nuclear Weapons in South Korea under Discussio...</td>\n",
       "      <td>Author</td>\n",
       "      <td>Country: South Korea In October 2016, the Pres...</td>\n",
       "      <td>1</td>\n",
       "    </tr>\n",
       "    <tr>\n",
       "      <td>2</td>\n",
       "      <td>5500</td>\n",
       "      <td>5500</td>\n",
       "      <td>Solar Storm Alert</td>\n",
       "      <td>No Author</td>\n",
       "      <td>October 27, 2016 Solar winds triggered a giant...</td>\n",
       "      <td>1</td>\n",
       "    </tr>\n",
       "    <tr>\n",
       "      <td>3</td>\n",
       "      <td>9398</td>\n",
       "      <td>9398</td>\n",
       "      <td>Keith Lamont Scott Was Killed by Two Gunshot W...</td>\n",
       "      <td>Niraj Chokshi</td>\n",
       "      <td>A    black man whose fatal shooting by the pol...</td>\n",
       "      <td>0</td>\n",
       "    </tr>\n",
       "    <tr>\n",
       "      <td>4</td>\n",
       "      <td>4266</td>\n",
       "      <td>4266</td>\n",
       "      <td>Tom Cotton: Paul Ryan’s Healthcare Bill Does N...</td>\n",
       "      <td>Matthew Boyle</td>\n",
       "      <td>Sen. Tom Cotton ( ) a leading GOP senator, is ...</td>\n",
       "      <td>0</td>\n",
       "    </tr>\n",
       "  </tbody>\n",
       "</table>\n",
       "</div>"
      ],
      "text/plain": [
       "   index     id                                              title  \\\n",
       "0  20386  20386  Bob Dylan’s Nobel Prize: A Podcast Discussion ...   \n",
       "1  16794  16794  Nuclear Weapons in South Korea under Discussio...   \n",
       "2   5500   5500                                  Solar Storm Alert   \n",
       "3   9398   9398  Keith Lamont Scott Was Killed by Two Gunshot W...   \n",
       "4   4266   4266  Tom Cotton: Paul Ryan’s Healthcare Bill Does N...   \n",
       "\n",
       "          author                                               text  label  \n",
       "0    Jon Pareles  Listen to this week’s podcast | Subscribe: iTu...      0  \n",
       "1         Author  Country: South Korea In October 2016, the Pres...      1  \n",
       "2      No Author  October 27, 2016 Solar winds triggered a giant...      1  \n",
       "3  Niraj Chokshi  A    black man whose fatal shooting by the pol...      0  \n",
       "4  Matthew Boyle  Sen. Tom Cotton ( ) a leading GOP senator, is ...      0  "
      ]
     },
     "execution_count": 15,
     "metadata": {},
     "output_type": "execute_result"
    }
   ],
   "source": [
    "\n",
    "messages=df1.copy()\n",
    "messages.reset_index(inplace=True)\n",
    "messages.head()\n"
   ]
  },
  {
   "cell_type": "code",
   "execution_count": 16,
   "metadata": {},
   "outputs": [],
   "source": [
    "from nltk.corpus import stopwords\n",
    "from nltk.stem.porter import PorterStemmer\n",
    "import re\n",
    "ps=PorterStemmer()\n",
    "corpus=[]\n",
    "for i in range(0, len(messages)):\n",
    "    review=re.sub('[^a-zA-Z]',' ',messages['text'][i])\n",
    "    review=review.lower()\n",
    "    review=review.split()\n",
    "    \n",
    "    review=[ps.stem(word) for word in review if not word in stopwords.words('english')]\n",
    "    review=' '.join(review)\n",
    "    corpus.append(review)\n",
    "\n"
   ]
  },
  {
   "cell_type": "code",
   "execution_count": 17,
   "metadata": {},
   "outputs": [
    {
     "data": {
      "text/plain": [
       "'black man whose fatal shoot polic septemb prompt day protest charlott n c die gunshot wound back abdomen accord autopsi perform request famili result releas wednesday show man keith lamont scott shot three time back abdomen wrist mecklenburg counti medic examin offic yet releas result autopsi scott famili author releas inform maintain begin simpli seek transpar charl g monnett lawyer famili said statement continu pursu justic famili autopsi perform sept newberri counti memori hospit morgu newberri patholog associ mr scott sport util vehicl park lot apart complex sept polic offic serv warrant someon els confront roll marijuana cigarett held gun polic said famili disput mr scott arm offic brentley vinson also black fatal shot mr scott whose action perceiv threaten polic said obscur footag shoot releas polic depart mr scott appear threaten although offic heard one point shout drop gun right hand appear empti unclear hold anyth hand shoot immedi drew protest last sever day second night one protest fatal shot'"
      ]
     },
     "execution_count": 17,
     "metadata": {},
     "output_type": "execute_result"
    }
   ],
   "source": [
    "corpus[3]"
   ]
  },
  {
   "cell_type": "code",
   "execution_count": 18,
   "metadata": {},
   "outputs": [],
   "source": [
    "# FEATURE EXRACTION WITH TFIDF"
   ]
  },
  {
   "cell_type": "code",
   "execution_count": 19,
   "metadata": {},
   "outputs": [],
   "source": [
    "from sklearn.feature_extraction.text import TfidfVectorizer\n",
    "tfidf_v=TfidfVectorizer(max_features=2000,ngram_range=(1,2))\n",
    "X=tfidf_v.fit_transform(corpus).toarray()"
   ]
  },
  {
   "cell_type": "code",
   "execution_count": 20,
   "metadata": {},
   "outputs": [
    {
     "data": {
      "text/plain": [
       "(88, 2000)"
      ]
     },
     "execution_count": 20,
     "metadata": {},
     "output_type": "execute_result"
    }
   ],
   "source": [
    "X.shape"
   ]
  },
  {
   "cell_type": "code",
   "execution_count": 21,
   "metadata": {},
   "outputs": [
    {
     "data": {
      "text/plain": [
       "array([0., 0., 0., ..., 0., 0., 0.])"
      ]
     },
     "execution_count": 21,
     "metadata": {},
     "output_type": "execute_result"
    }
   ],
   "source": [
    "X[87]"
   ]
  },
  {
   "cell_type": "code",
   "execution_count": 22,
   "metadata": {},
   "outputs": [
    {
     "data": {
      "text/plain": [
       "(88, 6)"
      ]
     },
     "execution_count": 22,
     "metadata": {},
     "output_type": "execute_result"
    }
   ],
   "source": [
    "messages.shape"
   ]
  },
  {
   "cell_type": "code",
   "execution_count": 23,
   "metadata": {},
   "outputs": [],
   "source": [
    "Y=messages['label']"
   ]
  },
  {
   "cell_type": "code",
   "execution_count": 24,
   "metadata": {},
   "outputs": [
    {
     "data": {
      "text/plain": [
       "(88,)"
      ]
     },
     "execution_count": 24,
     "metadata": {},
     "output_type": "execute_result"
    }
   ],
   "source": [
    "Y.shape"
   ]
  },
  {
   "cell_type": "code",
   "execution_count": 25,
   "metadata": {},
   "outputs": [],
   "source": [
    "# SPLIT THE DATSET INTO TRAIN AND TEST DATA\n"
   ]
  },
  {
   "cell_type": "code",
   "execution_count": 26,
   "metadata": {},
   "outputs": [],
   "source": [
    "from sklearn.model_selection import train_test_split\n",
    "x_train,x_test,y_train,y_test=train_test_split(X,Y,test_size=0.2,random_state=0)"
   ]
  },
  {
   "cell_type": "code",
   "execution_count": 27,
   "metadata": {},
   "outputs": [
    {
     "data": {
      "text/plain": [
       "['aaron',\n",
       " 'abandon',\n",
       " 'abduct',\n",
       " 'abil',\n",
       " 'abl',\n",
       " 'abort',\n",
       " 'absolut',\n",
       " 'accept',\n",
       " 'access',\n",
       " 'accomplish']"
      ]
     },
     "execution_count": 27,
     "metadata": {},
     "output_type": "execute_result"
    }
   ],
   "source": [
    "tfidf_v.get_feature_names()[:10]"
   ]
  },
  {
   "cell_type": "code",
   "execution_count": 28,
   "metadata": {},
   "outputs": [
    {
     "data": {
      "text/plain": [
       "{'analyzer': 'word',\n",
       " 'binary': False,\n",
       " 'decode_error': 'strict',\n",
       " 'dtype': numpy.float64,\n",
       " 'encoding': 'utf-8',\n",
       " 'input': 'content',\n",
       " 'lowercase': True,\n",
       " 'max_df': 1.0,\n",
       " 'max_features': 2000,\n",
       " 'min_df': 1,\n",
       " 'ngram_range': (1, 2),\n",
       " 'norm': 'l2',\n",
       " 'preprocessor': None,\n",
       " 'smooth_idf': True,\n",
       " 'stop_words': None,\n",
       " 'strip_accents': None,\n",
       " 'sublinear_tf': False,\n",
       " 'token_pattern': '(?u)\\\\b\\\\w\\\\w+\\\\b',\n",
       " 'tokenizer': None,\n",
       " 'use_idf': True,\n",
       " 'vocabulary': None}"
      ]
     },
     "execution_count": 28,
     "metadata": {},
     "output_type": "execute_result"
    }
   ],
   "source": [
    "tfidf_v.get_params()"
   ]
  },
  {
   "cell_type": "code",
   "execution_count": 29,
   "metadata": {},
   "outputs": [],
   "source": [
    "count_df=pd.DataFrame(x_train,columns=tfidf_v.get_feature_names())"
   ]
  },
  {
   "cell_type": "code",
   "execution_count": 30,
   "metadata": {},
   "outputs": [
    {
     "data": {
      "text/html": [
       "<div>\n",
       "<style scoped>\n",
       "    .dataframe tbody tr th:only-of-type {\n",
       "        vertical-align: middle;\n",
       "    }\n",
       "\n",
       "    .dataframe tbody tr th {\n",
       "        vertical-align: top;\n",
       "    }\n",
       "\n",
       "    .dataframe thead th {\n",
       "        text-align: right;\n",
       "    }\n",
       "</style>\n",
       "<table border=\"1\" class=\"dataframe\">\n",
       "  <thead>\n",
       "    <tr style=\"text-align: right;\">\n",
       "      <th></th>\n",
       "      <th>aaron</th>\n",
       "      <th>abandon</th>\n",
       "      <th>abduct</th>\n",
       "      <th>abil</th>\n",
       "      <th>abl</th>\n",
       "      <th>abort</th>\n",
       "      <th>absolut</th>\n",
       "      <th>accept</th>\n",
       "      <th>access</th>\n",
       "      <th>accomplish</th>\n",
       "      <th>...</th>\n",
       "      <th>yesterday</th>\n",
       "      <th>yet</th>\n",
       "      <th>york</th>\n",
       "      <th>york time</th>\n",
       "      <th>young</th>\n",
       "      <th>yuan</th>\n",
       "      <th>zero</th>\n",
       "      <th>zero hedg</th>\n",
       "      <th>ziegler</th>\n",
       "      <th>zucker</th>\n",
       "    </tr>\n",
       "  </thead>\n",
       "  <tbody>\n",
       "    <tr>\n",
       "      <td>0</td>\n",
       "      <td>0.0</td>\n",
       "      <td>0.0</td>\n",
       "      <td>0.0</td>\n",
       "      <td>0.0</td>\n",
       "      <td>0.000000</td>\n",
       "      <td>0.0</td>\n",
       "      <td>0.000000</td>\n",
       "      <td>0.0</td>\n",
       "      <td>0.0</td>\n",
       "      <td>0.0</td>\n",
       "      <td>...</td>\n",
       "      <td>0.0</td>\n",
       "      <td>0.047075</td>\n",
       "      <td>0.000000</td>\n",
       "      <td>0.0</td>\n",
       "      <td>0.0</td>\n",
       "      <td>0.0</td>\n",
       "      <td>0.000000</td>\n",
       "      <td>0.000000</td>\n",
       "      <td>0.0</td>\n",
       "      <td>0.0</td>\n",
       "    </tr>\n",
       "    <tr>\n",
       "      <td>1</td>\n",
       "      <td>0.0</td>\n",
       "      <td>0.0</td>\n",
       "      <td>0.0</td>\n",
       "      <td>0.0</td>\n",
       "      <td>0.032523</td>\n",
       "      <td>0.0</td>\n",
       "      <td>0.000000</td>\n",
       "      <td>0.0</td>\n",
       "      <td>0.0</td>\n",
       "      <td>0.0</td>\n",
       "      <td>...</td>\n",
       "      <td>0.0</td>\n",
       "      <td>0.029758</td>\n",
       "      <td>0.014879</td>\n",
       "      <td>0.0</td>\n",
       "      <td>0.0</td>\n",
       "      <td>0.0</td>\n",
       "      <td>0.000000</td>\n",
       "      <td>0.000000</td>\n",
       "      <td>0.0</td>\n",
       "      <td>0.0</td>\n",
       "    </tr>\n",
       "    <tr>\n",
       "      <td>2</td>\n",
       "      <td>0.0</td>\n",
       "      <td>0.0</td>\n",
       "      <td>0.0</td>\n",
       "      <td>0.0</td>\n",
       "      <td>0.000000</td>\n",
       "      <td>0.0</td>\n",
       "      <td>0.016322</td>\n",
       "      <td>0.0</td>\n",
       "      <td>0.0</td>\n",
       "      <td>0.0</td>\n",
       "      <td>...</td>\n",
       "      <td>0.0</td>\n",
       "      <td>0.011233</td>\n",
       "      <td>0.022465</td>\n",
       "      <td>0.0</td>\n",
       "      <td>0.0</td>\n",
       "      <td>0.0</td>\n",
       "      <td>0.000000</td>\n",
       "      <td>0.000000</td>\n",
       "      <td>0.0</td>\n",
       "      <td>0.0</td>\n",
       "    </tr>\n",
       "    <tr>\n",
       "      <td>3</td>\n",
       "      <td>0.0</td>\n",
       "      <td>0.0</td>\n",
       "      <td>0.0</td>\n",
       "      <td>0.0</td>\n",
       "      <td>0.000000</td>\n",
       "      <td>0.0</td>\n",
       "      <td>0.000000</td>\n",
       "      <td>0.0</td>\n",
       "      <td>0.0</td>\n",
       "      <td>0.0</td>\n",
       "      <td>...</td>\n",
       "      <td>0.0</td>\n",
       "      <td>0.000000</td>\n",
       "      <td>0.000000</td>\n",
       "      <td>0.0</td>\n",
       "      <td>0.0</td>\n",
       "      <td>0.0</td>\n",
       "      <td>0.000000</td>\n",
       "      <td>0.000000</td>\n",
       "      <td>0.0</td>\n",
       "      <td>0.0</td>\n",
       "    </tr>\n",
       "    <tr>\n",
       "      <td>4</td>\n",
       "      <td>0.0</td>\n",
       "      <td>0.0</td>\n",
       "      <td>0.0</td>\n",
       "      <td>0.0</td>\n",
       "      <td>0.000000</td>\n",
       "      <td>0.0</td>\n",
       "      <td>0.000000</td>\n",
       "      <td>0.0</td>\n",
       "      <td>0.0</td>\n",
       "      <td>0.0</td>\n",
       "      <td>...</td>\n",
       "      <td>0.0</td>\n",
       "      <td>0.000000</td>\n",
       "      <td>0.089217</td>\n",
       "      <td>0.0</td>\n",
       "      <td>0.0</td>\n",
       "      <td>0.0</td>\n",
       "      <td>0.041411</td>\n",
       "      <td>0.051315</td>\n",
       "      <td>0.0</td>\n",
       "      <td>0.0</td>\n",
       "    </tr>\n",
       "  </tbody>\n",
       "</table>\n",
       "<p>5 rows × 2000 columns</p>\n",
       "</div>"
      ],
      "text/plain": [
       "   aaron  abandon  abduct  abil       abl  abort   absolut  accept  access  \\\n",
       "0    0.0      0.0     0.0   0.0  0.000000    0.0  0.000000     0.0     0.0   \n",
       "1    0.0      0.0     0.0   0.0  0.032523    0.0  0.000000     0.0     0.0   \n",
       "2    0.0      0.0     0.0   0.0  0.000000    0.0  0.016322     0.0     0.0   \n",
       "3    0.0      0.0     0.0   0.0  0.000000    0.0  0.000000     0.0     0.0   \n",
       "4    0.0      0.0     0.0   0.0  0.000000    0.0  0.000000     0.0     0.0   \n",
       "\n",
       "   accomplish  ...  yesterday       yet      york  york time  young  yuan  \\\n",
       "0         0.0  ...        0.0  0.047075  0.000000        0.0    0.0   0.0   \n",
       "1         0.0  ...        0.0  0.029758  0.014879        0.0    0.0   0.0   \n",
       "2         0.0  ...        0.0  0.011233  0.022465        0.0    0.0   0.0   \n",
       "3         0.0  ...        0.0  0.000000  0.000000        0.0    0.0   0.0   \n",
       "4         0.0  ...        0.0  0.000000  0.089217        0.0    0.0   0.0   \n",
       "\n",
       "       zero  zero hedg  ziegler  zucker  \n",
       "0  0.000000   0.000000      0.0     0.0  \n",
       "1  0.000000   0.000000      0.0     0.0  \n",
       "2  0.000000   0.000000      0.0     0.0  \n",
       "3  0.000000   0.000000      0.0     0.0  \n",
       "4  0.041411   0.051315      0.0     0.0  \n",
       "\n",
       "[5 rows x 2000 columns]"
      ]
     },
     "execution_count": 30,
     "metadata": {},
     "output_type": "execute_result"
    }
   ],
   "source": [
    "count_df.head()"
   ]
  },
  {
   "cell_type": "code",
   "execution_count": 31,
   "metadata": {},
   "outputs": [],
   "source": [
    "# plot function for confusion matrix"
   ]
  },
  {
   "cell_type": "code",
   "execution_count": 32,
   "metadata": {},
   "outputs": [],
   "source": [
    "import matplotlib.pyplot as plt"
   ]
  },
  {
   "cell_type": "code",
   "execution_count": 33,
   "metadata": {},
   "outputs": [],
   "source": [
    "def plot_confusion_matrix(cm,classes,\n",
    "                          normalize=False,\n",
    "                          title='Confusion Matrix',\n",
    "                          cmap=plt.cm.Blues):\n",
    "    \"\"\"\n",
    "    See full source and example: \n",
    "    http://scikit-learn.org/stable/auto_examples/model_selection/plot_confusion_matrix.html\n",
    "    \n",
    "    This function prints and plots the confusion matrix.\n",
    "    Normalization can be applied by setting `normalize=True`.\n",
    "    \"\"\"\n",
    "    plt.imshow(cm, interpolation='nearest',cmap=cmap)\n",
    "    plt.title(title)\n",
    "    plt.colorbar()\n",
    "    tick_marks=np.arange(len(classes))\n",
    "    plt.xticks(tick_marks,classes, rotation=45)\n",
    "    plt.yticks(tick_marks,classes)\n",
    "    \n",
    "    if normalize:\n",
    "        cm=cm.astype('float') /cm.sum(axis=1)[:, np.newaxis]\n",
    "        print(\"Normalized Confusion Matrix\")\n",
    "    else:\n",
    "        print(\"Confusion Matrix Without Normalization\")\n",
    "        \n",
    "    thresh=cm.max()/2.\n",
    "    for i,j in itertools.product(range(cm.shape[0]), range(cm.shape[1])):\n",
    "            plt.text(j,i, cm[i,j],\n",
    "                     horizontalalignment=\"center\",\n",
    "                     color = \"white\" if cm[i,j] > thresh else \"black\")\n",
    "            \n",
    "    plt.tight_layout()\n",
    "    plt.xlabel('Predicted Label')\n",
    "    plt.ylabel('Actual labels')\n",
    "            \n",
    "    \n",
    "        \n",
    "    "
   ]
  },
  {
   "cell_type": "markdown",
   "metadata": {},
   "source": [
    "# MULTINOMIALNB ALGOARITHM"
   ]
  },
  {
   "cell_type": "code",
   "execution_count": 34,
   "metadata": {},
   "outputs": [],
   "source": [
    "from sklearn.naive_bayes import MultinomialNB\n",
    "classifier=MultinomialNB()"
   ]
  },
  {
   "cell_type": "code",
   "execution_count": 35,
   "metadata": {},
   "outputs": [],
   "source": [
    "from sklearn import metrics\n",
    "import numpy as np\n",
    "import itertools"
   ]
  },
  {
   "cell_type": "code",
   "execution_count": 36,
   "metadata": {},
   "outputs": [
    {
     "name": "stdout",
     "output_type": "stream",
     "text": [
      "accuracy: 0.833\n",
      "Confusion Matrix Without Normalization\n"
     ]
    },
    {
     "data": {
      "image/png": "[encoded data removed]",
      "text/plain": [
       "<Figure size 432x288 with 2 Axes>"
      ]
     },
     "metadata": {
      "needs_background": "light"
     },
     "output_type": "display_data"
    }
   ],
   "source": [
    "classifier.fit(x_train,y_train)\n",
    "y_pred=classifier.predict(x_test)\n",
    "score=metrics.accuracy_score(y_test,y_pred)\n",
    "print(\"accuracy: %0.3f\"% score)\n",
    "cm = metrics.confusion_matrix(y_test,y_pred)\n",
    "plot_confusion_matrix(cm, classes=['FAKE','REAL'])"
   ]
  },
  {
   "cell_type": "code",
   "execution_count": 37,
   "metadata": {},
   "outputs": [
    {
     "data": {
      "text/plain": [
       "array([[8, 1],\n",
       "       [2, 7]], dtype=int64)"
      ]
     },
     "execution_count": 37,
     "metadata": {},
     "output_type": "execute_result"
    }
   ],
   "source": [
    "cm"
   ]
  },
  {
   "cell_type": "code",
   "execution_count": 38,
   "metadata": {},
   "outputs": [],
   "source": [
    "# plot confusion matrix with scikit learn"
   ]
  },
  {
   "cell_type": "code",
   "execution_count": 39,
   "metadata": {},
   "outputs": [
    {
     "name": "stdout",
     "output_type": "stream",
     "text": [
      "accuracy: 0.833\n",
      "<function plot_confusion_matrix at 0x00000000118E5F78>\n"
     ]
    },
    {
     "data": {
      "image/png": "[encoded data removed]",
      "text/plain": [
       "<Figure size 432x288 with 2 Axes>"
      ]
     },
     "metadata": {
      "needs_background": "light"
     },
     "output_type": "display_data"
    }
   ],
   "source": [
    "\n",
    "classifier1=classifier.fit(x_train,y_train)\n",
    "y_pred=classifier1.predict(x_test)\n",
    "score=metrics.accuracy_score(y_test,y_pred)\n",
    "print(\"accuracy: %0.3f\"% score)\n",
    "\n",
    "from sklearn.metrics import plot_confusion_matrix\n",
    "display=plot_confusion_matrix(classifier1,x_test,y_test,\n",
    "                              cmap=plt.cm.Blues,\n",
    "                              normalize='true')\n",
    "\n",
    "print(plot_confusion_matrix)"
   ]
  },
  {
   "cell_type": "markdown",
   "metadata": {},
   "source": [
    "# PASSIVE AGGRESSIVE CLASSIFIER ALGORITHM"
   ]
  },
  {
   "cell_type": "code",
   "execution_count": 40,
   "metadata": {},
   "outputs": [
    {
     "data": {
      "text/plain": [
       "PassiveAggressiveClassifier(C=1.0, average=False, class_weight=None,\n",
       "                            early_stopping=False, fit_intercept=True,\n",
       "                            loss='hinge', max_iter=1000, n_iter_no_change=5,\n",
       "                            n_jobs=None, random_state=None, shuffle=True,\n",
       "                            tol=0.001, validation_fraction=0.1, verbose=0,\n",
       "                            warm_start=False)"
      ]
     },
     "execution_count": 40,
     "metadata": {},
     "output_type": "execute_result"
    }
   ],
   "source": [
    "from sklearn.linear_model import PassiveAggressiveClassifier\n",
    "linear_clf=PassiveAggressiveClassifier()\n",
    "linear_clf.fit(x_train,y_train)\n"
   ]
  },
  {
   "cell_type": "code",
   "execution_count": 41,
   "metadata": {},
   "outputs": [
    {
     "name": "stdout",
     "output_type": "stream",
     "text": [
      "accuracy: 0.778\n"
     ]
    },
    {
     "data": {
      "image/png": "[encoded data removed]",
      "text/plain": [
       "<Figure size 432x288 with 2 Axes>"
      ]
     },
     "metadata": {
      "needs_background": "light"
     },
     "output_type": "display_data"
    }
   ],
   "source": [
    "y_pred=linear_clf.predict(x_test)\n",
    "score=metrics.accuracy_score(y_test,y_pred)\n",
    "print(\"accuracy: %0.3f\"% score)\n",
    "\n",
    "from sklearn.metrics import plot_confusion_matrix\n",
    "display=plot_confusion_matrix(linear_clf,x_test,y_test,\n",
    "                              cmap=plt.cm.Blues,\n",
    "                              normalize=None)"
   ]
  },
  {
   "cell_type": "markdown",
   "metadata": {},
   "source": [
    "# MULTINOMIAL CLASSIFIER WITH HYPERPARAMETER"
   ]
  },
  {
   "cell_type": "code",
   "execution_count": 42,
   "metadata": {},
   "outputs": [],
   "source": [
    "classifier=MultinomialNB(alpha=0.1)"
   ]
  },
  {
   "cell_type": "code",
   "execution_count": 43,
   "metadata": {},
   "outputs": [
    {
     "name": "stdout",
     "output_type": "stream",
     "text": [
      "Alpha: 0.0, score: 0.6666666666666666\n",
      "Alpha: 0.1, score: 0.7777777777777778\n",
      "Alpha: 0.2, score: 0.8333333333333334\n",
      "Alpha: 0.30000000000000004, score: 0.8888888888888888\n",
      "Alpha: 0.4, score: 0.8888888888888888\n",
      "Alpha: 0.5, score: 0.8888888888888888\n",
      "Alpha: 0.6000000000000001, score: 0.8888888888888888\n",
      "Alpha: 0.7000000000000001, score: 0.8888888888888888\n",
      "Alpha: 0.8, score: 0.8333333333333334\n",
      "Alpha: 0.9, score: 0.8333333333333334\n"
     ]
    },
    {
     "name": "stderr",
     "output_type": "stream",
     "text": [
      "C:\\Users\\UER\\Anaconda3\\lib\\site-packages\\sklearn\\naive_bayes.py:507: UserWarning: alpha too small will result in numeric errors, setting alpha = 1.0e-10\n",
      "  'setting alpha = %.1e' % _ALPHA_MIN)\n"
     ]
    }
   ],
   "source": [
    "previous_score=0\n",
    "for alpha in np.arange(0,1,0.1):\n",
    "    sub_classifier=MultinomialNB(alpha=alpha)\n",
    "    sub_classifier.fit(x_train,y_train)\n",
    "    y_pred=sub_classifier.predict(x_test)\n",
    "    score=metrics.accuracy_score(y_test,y_pred)\n",
    "    if score>previous_score:\n",
    "        classifier=sub_classifier\n",
    "        \n",
    "    print(\"Alpha: {}, score: {}\".format(alpha,score))\n",
    "    \n",
    "    "
   ]
  },
  {
   "cell_type": "code",
   "execution_count": 44,
   "metadata": {},
   "outputs": [],
   "source": [
    "# GET THE FEATURE NAMES\n",
    "feature_names=tfidf_v.get_feature_names()"
   ]
  },
  {
   "cell_type": "code",
   "execution_count": 45,
   "metadata": {},
   "outputs": [
    {
     "data": {
      "text/plain": [
       "array([-7.74727844, -7.70850881, -7.74727844, ..., -7.49987229,\n",
       "       -7.56566031, -7.74727844])"
      ]
     },
     "execution_count": 45,
     "metadata": {},
     "output_type": "execute_result"
    }
   ],
   "source": [
    "classifier.coef_[0]"
   ]
  },
  {
   "cell_type": "code",
   "execution_count": 46,
   "metadata": {},
   "outputs": [
    {
     "data": {
      "text/plain": [
       "[(-6.321569829966555, 'clinton'),\n",
       " (-6.670197914081043, 'hillari'),\n",
       " (-6.815870262516819, 'foundat'),\n",
       " (-6.847121060852193, 'russia'),\n",
       " (-6.922246977884251, 'govern'),\n",
       " (-6.937242650233269, 'trump'),\n",
       " (-6.951972799657689, 'bill'),\n",
       " (-6.9776683293324515, 'confus'),\n",
       " (-6.987805177041897, 'us'),\n",
       " (-6.988756433050449, 'hillari clinton'),\n",
       " (-6.995654618867842, 'nato'),\n",
       " (-6.997718747408275, 'peopl'),\n",
       " (-7.0249354252701055, 'gold'),\n",
       " (-7.045913906530136, 'like'),\n",
       " (-7.061349110092331, 'use'),\n",
       " (-7.075167752285445, 'need'),\n",
       " (-7.079513930548441, 'sourc'),\n",
       " (-7.102921017417173, 'email'),\n",
       " (-7.104972801184837, 'nuclear'),\n",
       " (-7.12302473359127, 'russian')]"
      ]
     },
     "execution_count": 46,
     "metadata": {},
     "output_type": "execute_result"
    }
   ],
   "source": [
    "# most real\n",
    "sorted(zip(classifier.coef_[0],feature_names),reverse=True)[:20]"
   ]
  },
  {
   "cell_type": "code",
   "execution_count": 47,
   "metadata": {},
   "outputs": [
    {
     "data": {
      "text/plain": [
       "[(-6.321569829966555, 'clinton'),\n",
       " (-6.670197914081043, 'hillari'),\n",
       " (-6.815870262516819, 'foundat'),\n",
       " (-6.847121060852193, 'russia'),\n",
       " (-6.922246977884251, 'govern'),\n",
       " (-6.937242650233269, 'trump'),\n",
       " (-6.951972799657689, 'bill'),\n",
       " (-6.9776683293324515, 'confus'),\n",
       " (-6.987805177041897, 'us'),\n",
       " (-6.988756433050449, 'hillari clinton'),\n",
       " (-6.995654618867842, 'nato'),\n",
       " (-6.997718747408275, 'peopl'),\n",
       " (-7.0249354252701055, 'gold'),\n",
       " (-7.045913906530136, 'like'),\n",
       " (-7.061349110092331, 'use'),\n",
       " (-7.075167752285445, 'need'),\n",
       " (-7.079513930548441, 'sourc'),\n",
       " (-7.102921017417173, 'email'),\n",
       " (-7.104972801184837, 'nuclear'),\n",
       " (-7.12302473359127, 'russian'),\n",
       " (-7.125139044240853, 'text'),\n",
       " (-7.12754108858462, 'cholesterol'),\n",
       " (-7.1382234403253495, 'one'),\n",
       " (-7.1420953049546565, 'comment'),\n",
       " (-7.145845095140635, 'health'),\n",
       " (-7.158793046457411, 'com'),\n",
       " (-7.160216892251789, 'report'),\n",
       " (-7.163995634155934, 'go'),\n",
       " (-7.1727540508035235, 'presid'),\n",
       " (-7.175354410431504, 'facebook'),\n",
       " (-7.1753598652865795, 'come'),\n",
       " (-7.176064024059956, 'lectur'),\n",
       " (-7.181267080552621, 'http'),\n",
       " (-7.191092038687435, 'baltic'),\n",
       " (-7.200220416155187, 'obama'),\n",
       " (-7.202162761296034, 'clinton foundat'),\n",
       " (-7.203001432147734, 'elect'),\n",
       " (-7.2088313845026235, 'war'),\n",
       " (-7.21809051805921, 'state'),\n",
       " (-7.220803937376306, 'www'),\n",
       " (-7.231608644043243, 'add'),\n",
       " (-7.238240256664145, 'immigr'),\n",
       " (-7.239131493463383, 'would'),\n",
       " (-7.2409674162653515, 'footprint'),\n",
       " (-7.242104104470809, 'million'),\n",
       " (-7.242318752103362, 'take'),\n",
       " (-7.246543265376632, 'news'),\n",
       " (-7.248002030707382, 'interest'),\n",
       " (-7.2546972402211525, 'republican'),\n",
       " (-7.257979786268109, 'full'),\n",
       " (-7.267678820176783, 'also'),\n",
       " (-7.269649511602209, 'space'),\n",
       " (-7.270002699626182, 'get'),\n",
       " (-7.270673366204387, 'comey'),\n",
       " (-7.273774717616684, 'berni'),\n",
       " (-7.278074679149137, 'well'),\n",
       " (-7.279896481767697, 'time'),\n",
       " (-7.28371247194789, 'turkish'),\n",
       " (-7.284577591484406, 'self'),\n",
       " (-7.284864530384212, 'run'),\n",
       " (-7.286491179909264, 'octob'),\n",
       " (-7.290972415471381, 'year'),\n",
       " (-7.293755600660184, 'putin'),\n",
       " (-7.294007964226663, 'look'),\n",
       " (-7.296316325173294, 'moscow'),\n",
       " (-7.297641861427271, 'relat'),\n",
       " (-7.301635919149013, 'money'),\n",
       " (-7.302716418689849, 'land'),\n",
       " (-7.302980916564701, 'melania'),\n",
       " (-7.30371090393453, 'group'),\n",
       " (-7.30561194082821, 'campaign'),\n",
       " (-7.306384799778102, 'market'),\n",
       " (-7.307969855873001, 'howev'),\n",
       " (-7.309924405308265, 'even'),\n",
       " (-7.3140406590614155, 'way'),\n",
       " (-7.314860522137577, 'said'),\n",
       " (-7.3153672189206045, 'everyth'),\n",
       " (-7.315703792961206, 'weapon'),\n",
       " (-7.323714547808376, 'back'),\n",
       " (-7.324608199229439, 'support'),\n",
       " (-7.32698611514083, 'anoth'),\n",
       " (-7.3272790420242435, 'long'),\n",
       " (-7.327285483714898, 'talk'),\n",
       " (-7.327386683088695, 'nuclear weapon'),\n",
       " (-7.327854124539751, 'convers'),\n",
       " (-7.333575146682502, 'cost'),\n",
       " (-7.334415599995405, 'donat'),\n",
       " (-7.337587342314678, 'want'),\n",
       " (-7.3401739195949265, 'possibl'),\n",
       " (-7.340293577907085, 'klamath'),\n",
       " (-7.343498159698966, 'polic'),\n",
       " (-7.343819203953641, 'deep'),\n",
       " (-7.34482778758415, 'initi'),\n",
       " (-7.345157713800121, 'fix'),\n",
       " (-7.345306598954561, 'maintain'),\n",
       " (-7.346529827658792, 'samsung'),\n",
       " (-7.3479592178298745, 'nasa'),\n",
       " (-7.3479592178298745, 'deep space'),\n",
       " (-7.3511830343402735, 'countri'),\n",
       " (-7.352178238622393, 'fbi'),\n",
       " (-7.354248739635941, 'system'),\n",
       " (-7.354555773063959, 'plan'),\n",
       " (-7.358257475949983, 'giant'),\n",
       " (-7.3587134443722455, 'energi'),\n",
       " (-7.3599009656736465, 'ignor'),\n",
       " (-7.361631546007054, 'fact'),\n",
       " (-7.3623200320482916, 'everyon'),\n",
       " (-7.362793777014362, 'public'),\n",
       " (-7.364601081709891, 'includ'),\n",
       " (-7.365451267444724, 'watch'),\n",
       " (-7.365815764679664, 'month'),\n",
       " (-7.366953480114354, 'work'),\n",
       " (-7.368353472134568, 'two'),\n",
       " (-7.369940570332338, 'sinc'),\n",
       " (-7.370292554388252, 'extrem'),\n",
       " (-7.371114180430012, 'mention'),\n",
       " (-7.372179865788042, 'might'),\n",
       " (-7.3726715520355395, 'korea'),\n",
       " (-7.3732752308730145, 'tri'),\n",
       " (-7.374983450932934, 'price'),\n",
       " (-7.375546766185351, 'mean'),\n",
       " (-7.377247393458385, 'know'),\n",
       " (-7.377274021986287, 'american'),\n",
       " (-7.377524790500311, 'video'),\n",
       " (-7.378030313532667, 'chang'),\n",
       " (-7.378588216999017, 'realli'),\n",
       " (-7.381120267446379, 'investig'),\n",
       " (-7.38233789705682, 'may'),\n",
       " (-7.382509992176489, 'result'),\n",
       " (-7.385248448102703, 'world'),\n",
       " (-7.38526925423669, 'stori'),\n",
       " (-7.38543242617644, 'gibson'),\n",
       " (-7.388031203825389, 'appear'),\n",
       " (-7.388248390093019, 'band'),\n",
       " (-7.38918762725391, 'hold'),\n",
       " (-7.389361101831808, 'wikileak'),\n",
       " (-7.389960992186791, 'thing'),\n",
       " (-7.39246308339873, 'media'),\n",
       " (-7.397199823540722, 'make'),\n",
       " (-7.3986173781820685, 'head'),\n",
       " (-7.401448456334565, 'lockhe martin'),\n",
       " (-7.401448456334565, 'lockhe'),\n",
       " (-7.403455158221941, 'think'),\n",
       " (-7.4035226183052805, 'cultur'),\n",
       " (-7.403749996109468, 'martin'),\n",
       " (-7.406301265160654, 'law'),\n",
       " (-7.407344686028871, 'vote'),\n",
       " (-7.40867631524326, 'emot'),\n",
       " (-7.409787667320275, 'deleg'),\n",
       " (-7.410415518215317, 'happen'),\n",
       " (-7.410571608823968, 'strong'),\n",
       " (-7.4108867947465615, 'click'),\n",
       " (-7.410916064202284, 'say'),\n",
       " (-7.4110904924498175, 'case'),\n",
       " (-7.4127830084645385, 'someth'),\n",
       " (-7.413567413328343, 'link'),\n",
       " (-7.414646622489387, 'manag'),\n",
       " (-7.416125642423154, 'syrian'),\n",
       " (-7.416767549010309, 'new'),\n",
       " (-7.417163439315223, 'serco'),\n",
       " (-7.4184988425643885, 'visa'),\n",
       " (-7.419381775940303, 'often'),\n",
       " (-7.419716585834016, 'unit'),\n",
       " (-7.420313962788472, 'propos'),\n",
       " (-7.421026827420418, 'call'),\n",
       " (-7.42135177211421, 'twitter'),\n",
       " (-7.422335306662011, 'mani'),\n",
       " (-7.4229173912425965, 'came'),\n",
       " (-7.423183357287118, 'post'),\n",
       " (-7.42342721674373, 'silver'),\n",
       " (-7.424210837503631, 'ancient'),\n",
       " (-7.424350681585006, 'self ish'),\n",
       " (-7.424350681585006, 'ish'),\n",
       " (-7.425517533183127, 'illeg'),\n",
       " (-7.426074078878336, 'machin'),\n",
       " (-7.426434301564154, 'power'),\n",
       " (-7.428619951420852, 'four'),\n",
       " (-7.429545129961042, 'part'),\n",
       " (-7.429639165009728, 'numer'),\n",
       " (-7.429739957176024, 'show'),\n",
       " (-7.4302174896160915, 'phone'),\n",
       " (-7.430752424223751, 'entir'),\n",
       " (-7.432169369310134, 'slogan'),\n",
       " (-7.433888195299459, 'counti'),\n",
       " (-7.43451712128426, 'donald'),\n",
       " (-7.4354599549335285, 'crimin'),\n",
       " (-7.435531741311308, 'depart'),\n",
       " (-7.43603754622287, 'share'),\n",
       " (-7.436603247375693, 'meet'),\n",
       " (-7.436793410420608, 'claim'),\n",
       " (-7.4373218139598904, 'berni sander'),\n",
       " (-7.437377851846796, 'non'),\n",
       " (-7.437608974058293, 'attempt'),\n",
       " (-7.437618276338026, 'alreadi'),\n",
       " (-7.437650658429309, 'militari'),\n",
       " (-7.437929750442213, 'find'),\n",
       " (-7.438249230426982, 'alic'),\n",
       " (-7.43870176240123, 'parti'),\n",
       " (-7.439647696036794, 'realiti'),\n",
       " (-7.440623550873276, 'paid'),\n",
       " (-7.440791812255747, 'pakistan'),\n",
       " (-7.4409268614734545, 'daili'),\n",
       " (-7.4413415654079085, 'program'),\n",
       " (-7.442826830654864, 'found'),\n",
       " (-7.444147029112662, 'loss'),\n",
       " (-7.444184656799745, 'oper'),\n",
       " (-7.4447669648985215, 'joy'),\n",
       " (-7.446191560294938, 'evid'),\n",
       " (-7.447212952957189, 'place'),\n",
       " (-7.449469053871617, 'control'),\n",
       " (-7.449927376010907, 'sander'),\n",
       " (-7.4501201928743495, 'name'),\n",
       " (-7.450352675617317, 'dead'),\n",
       " (-7.450493064930376, 'effort'),\n",
       " (-7.4514072061313925, 'contract'),\n",
       " (-7.451539978592084, 'compani'),\n",
       " (-7.452248368274325, 'polit'),\n",
       " (-7.452489122707618, 'could'),\n",
       " (-7.4525546422744045, 'first'),\n",
       " (-7.452638310828191, 'recogn'),\n",
       " (-7.454187661058608, 'benefit'),\n",
       " (-7.455684384856164, 'deliv'),\n",
       " (-7.457125050972177, 'whine'),\n",
       " (-7.457628819106901, 'give'),\n",
       " (-7.459476546900999, 'point'),\n",
       " (-7.459488981268353, 'print'),\n",
       " (-7.459792486794282, 'see'),\n",
       " (-7.460484567297271, 'democrat'),\n",
       " (-7.460801785969709, 'offici'),\n",
       " (-7.461321036849454, 'detail'),\n",
       " (-7.462305326056998, 'around'),\n",
       " (-7.462310885772893, 'digit'),\n",
       " (-7.462682789828871, 'kremlin'),\n",
       " (-7.4629312969016235, 'pay'),\n",
       " (-7.463192861614348, 'stop'),\n",
       " (-7.463298997355288, 'offic'),\n",
       " (-7.463421552084246, 'immun'),\n",
       " (-7.466906104635367, 'follow'),\n",
       " (-7.467026142578552, 'littl'),\n",
       " (-7.467046982527066, 'move'),\n",
       " (-7.4670837986454375, 'memori'),\n",
       " (-7.467197181353126, 'seem'),\n",
       " (-7.468022958462338, 'problem'),\n",
       " (-7.468206556706934, 'live'),\n",
       " (-7.468472985931106, 'act'),\n",
       " (-7.469500560205917, 'discuss'),\n",
       " (-7.469742549088704, 'document'),\n",
       " (-7.469852223230276, 'film'),\n",
       " (-7.470157024370432, 'must'),\n",
       " (-7.470725869358621, 'devic'),\n",
       " (-7.470869586180754, 'presid obama'),\n",
       " (-7.47231984178087, 'consid'),\n",
       " (-7.472527481795461, 'troop'),\n",
       " (-7.47273529509718, 'wash'),\n",
       " (-7.472984641261182, 'plu'),\n",
       " (-7.473190083880658, 'ever'),\n",
       " (-7.473433197018969, 'import'),\n",
       " (-7.4745351669164934, 'respons'),\n",
       " (-7.47468510386396, 'via'),\n",
       " (-7.474916081872914, 'person'),\n",
       " (-7.475009791437945, 'proof'),\n",
       " (-7.475427833831103, 'gener'),\n",
       " (-7.4754883125503175, 'rock'),\n",
       " (-7.476341628914008, 'border'),\n",
       " (-7.476342496336932, 'far'),\n",
       " (-7.476723315257664, 'premium'),\n",
       " (-7.476789803454579, 'partner'),\n",
       " (-7.476973406064618, 'imag'),\n",
       " (-7.478090374873224, 'less'),\n",
       " (-7.480566113474247, 'russophobia'),\n",
       " (-7.48095079591463, 'bill clinton'),\n",
       " (-7.482282708341317, 'involv'),\n",
       " (-7.482384249269256, 'quot'),\n",
       " (-7.482408186336804, 'conflict'),\n",
       " (-7.48266448049985, 'donald trump'),\n",
       " (-7.484055997508918, 'grow'),\n",
       " (-7.4848105784499, 'near'),\n",
       " (-7.485245852266921, 'legal'),\n",
       " (-7.485590412563806, 'receiv'),\n",
       " (-7.485890236656552, 'creat'),\n",
       " (-7.486205428452931, 'republ'),\n",
       " (-7.486392630261289, 'send'),\n",
       " (-7.486458528526451, 'economi'),\n",
       " (-7.486845263673709, 'north'),\n",
       " (-7.487572620125546, 'base'),\n",
       " (-7.4877644120611775, 'allow'),\n",
       " (-7.487950811152004, 'decent'),\n",
       " (-7.488303838030339, 'addit'),\n",
       " (-7.488984512220727, 'al'),\n",
       " (-7.489269926645803, 'presidenti'),\n",
       " (-7.489273336108814, 'exist'),\n",
       " (-7.489918473030082, 'break'),\n",
       " (-7.490429493974935, 'cours'),\n",
       " (-7.491793017850815, 'much'),\n",
       " (-7.492696282637347, 'profit'),\n",
       " (-7.492799499438603, 'insur'),\n",
       " (-7.4930089403749855, 'novemb'),\n",
       " (-7.4931666456706125, 'line'),\n",
       " (-7.4934198927043285, 'director'),\n",
       " (-7.493605981234663, 'contribut'),\n",
       " (-7.4937692232221025, 'tax'),\n",
       " (-7.495339400461687, 'higher'),\n",
       " (-7.495504276591775, 'habitat'),\n",
       " (-7.495707013873557, 'secur'),\n",
       " (-7.495860142027483, 'choic'),\n",
       " (-7.495963751492611, 'feel'),\n",
       " (-7.496827366562886, 'content'),\n",
       " (-7.497133409087879, 'day'),\n",
       " (-7.497159409937109, 'continu'),\n",
       " (-7.49730172841407, 'kill'),\n",
       " (-7.498169834036197, 'south'),\n",
       " (-7.49830297929009, 'explod'),\n",
       " (-7.498304354688825, 'notic'),\n",
       " (-7.49837811123882, 'massiv'),\n",
       " (-7.498470397091984, 'file'),\n",
       " (-7.499872285610868, 'zero hedg'),\n",
       " (-7.501122320360808, 'end'),\n",
       " (-7.5019660514186715, 'hedg'),\n",
       " (-7.50205684696243, 'write'),\n",
       " (-7.502231417816856, 'good'),\n",
       " (-7.502382783185278, 'probabl'),\n",
       " (-7.502414205785123, 'local'),\n",
       " (-7.502444064273533, 'let'),\n",
       " (-7.503077321355754, 'chamber'),\n",
       " (-7.504185564078398, 'instead'),\n",
       " (-7.505143659911958, 'express'),\n",
       " (-7.505213157842962, 'global'),\n",
       " (-7.505372944271026, 'win'),\n",
       " (-7.505583563187749, 'oz'),\n",
       " (-7.506185250804122, 'question'),\n",
       " (-7.506550981150858, 'real'),\n",
       " (-7.507035531195533, 'look like'),\n",
       " (-7.507152905512166, 'commit'),\n",
       " (-7.507453813726467, 'jihadist'),\n",
       " (-7.507880847840435, 'led'),\n",
       " (-7.508838653538063, 'hope'),\n",
       " (-7.509030456419179, 'everi'),\n",
       " (-7.50912648024455, 'establish'),\n",
       " (-7.509274802637821, 'famili'),\n",
       " (-7.511271859772205, 'block'),\n",
       " (-7.5112819425165105, 'play'),\n",
       " (-7.511952429949872, 'zero'),\n",
       " (-7.511952671963135, 'keep'),\n",
       " (-7.511964118519515, 'dollar'),\n",
       " (-7.512125548007811, 'memo'),\n",
       " (-7.512344792206198, 'understand'),\n",
       " (-7.512597699230175, 'note'),\n",
       " (-7.512689460740794, 'america'),\n",
       " (-7.51305467992517, 'expect'),\n",
       " (-7.5130590669237485, 'http www'),\n",
       " (-7.513227435364096, 'access'),\n",
       " (-7.513367278230386, 'pleas'),\n",
       " (-7.514125097776006, 'yet'),\n",
       " (-7.5144035679351795, 'care'),\n",
       " (-7.514719961566612, 'restor'),\n",
       " (-7.515421712818988, 'develop'),\n",
       " (-7.515674114790407, 'circl'),\n",
       " (-7.515753173580437, 'enough'),\n",
       " (-7.516081316926185, 'actual'),\n",
       " (-7.516540390327803, 'articl'),\n",
       " (-7.5165940674477865, 'teneo'),\n",
       " (-7.5165940674477865, 'audit'),\n",
       " (-7.516781606957875, 'author'),\n",
       " (-7.51692979134693, 'mail'),\n",
       " (-7.51718712123763, 'featur'),\n",
       " (-7.517619225495603, 'assad'),\n",
       " (-7.519116051916658, 'two year'),\n",
       " (-7.519603010133966, 'statu'),\n",
       " (-7.5201105321867825, 'guess'),\n",
       " (-7.520277481868786, 'water protector'),\n",
       " (-7.520277481868786, 'protector'),\n",
       " (-7.520277481868786, 'broze'),\n",
       " (-7.520344446119152, 'associ'),\n",
       " (-7.520365476512826, 'russophob'),\n",
       " (-7.520365476512826, 'banana'),\n",
       " (-7.5204515079221546, 'sale'),\n",
       " (-7.520685179027582, 'sex'),\n",
       " (-7.520851978373526, 'ing'),\n",
       " (-7.521361529445039, 'cult'),\n",
       " (-7.521590578589572, 'mind'),\n",
       " (-7.521656062514229, 'last'),\n",
       " (-7.521922834151306, 'effect'),\n",
       " (-7.522102560804205, 'voter'),\n",
       " (-7.522555434690287, 'sell'),\n",
       " (-7.523350654538053, 'destroy'),\n",
       " (-7.523466329579608, 'accord'),\n",
       " (-7.524287057852582, 'kind'),\n",
       " (-7.524324874398486, 'board'),\n",
       " (-7.5243392712177615, 'unfold'),\n",
       " (-7.524427489727576, 'right'),\n",
       " (-7.524531128286201, 'citizen'),\n",
       " (-7.524542604779359, 'hsbc'),\n",
       " (-7.525194328867003, 'fleck'),\n",
       " (-7.525300748232895, 'stock'),\n",
       " (-7.525303033407268, 'usa'),\n",
       " (-7.525919350378151, 'list'),\n",
       " (-7.525964181721941, 'low'),\n",
       " (-7.526586544161354, 'campaign slogan'),\n",
       " (-7.526653644147485, 'econom'),\n",
       " (-7.526790482049519, 'noth'),\n",
       " (-7.527780184803395, 'sure'),\n",
       " (-7.52800682763454, 'busi'),\n",
       " (-7.528671435628622, 'shanghai'),\n",
       " (-7.528885303599856, 'nativ'),\n",
       " (-7.529119100079057, 'lock'),\n",
       " (-7.529328800263903, 'today'),\n",
       " (-7.529462548376875, 'along'),\n",
       " (-7.529510278923157, 'next'),\n",
       " (-7.529592543452077, 'twitter com'),\n",
       " (-7.529734113268147, 'believ'),\n",
       " (-7.529895571040914, 'cold war'),\n",
       " (-7.530286983226066, 'becam'),\n",
       " (-7.530800171418689, 'stand'),\n",
       " (-7.531057453457047, 'check'),\n",
       " (-7.531607364650171, 'pickton'),\n",
       " (-7.532024594143323, 'review'),\n",
       " (-7.532195759873624, 'never'),\n",
       " (-7.533262085735658, 'caus'),\n",
       " (-7.534081478734803, 'muslim'),\n",
       " (-7.534170409984915, 'week'),\n",
       " (-7.534245201766539, 'confirm'),\n",
       " (-7.534909988435573, 'high'),\n",
       " (-7.536215186199887, 'nation'),\n",
       " (-7.536243356858271, 'type'),\n",
       " (-7.536684714245358, 'jon'),\n",
       " (-7.536749996353387, 'unit state'),\n",
       " (-7.536804803874639, 'london'),\n",
       " (-7.536992505895256, 'region'),\n",
       " (-7.537597294922303, 'dakota'),\n",
       " (-7.537631861957639, 'shot'),\n",
       " (-7.53792071123242, 'explor'),\n",
       " (-7.538017710690999, 'close'),\n",
       " (-7.538166118826286, 'obamacar'),\n",
       " (-7.538166118826286, 'health insur'),\n",
       " (-7.538166118826286, 'aetna'),\n",
       " (-7.5382290233133675, 'politician'),\n",
       " (-7.538285154731931, 'form'),\n",
       " (-7.538584665836049, 'inform'),\n",
       " (-7.5387707201668706, 'mayb'),\n",
       " (-7.539236195574435, 'candid'),\n",
       " (-7.539535063631936, 'human'),\n",
       " (-7.539652662776618, 'wrote'),\n",
       " (-7.539663582154952, 'repres'),\n",
       " (-7.540354836176637, 'light'),\n",
       " (-7.54046103657955, 'european'),\n",
       " (-7.540505827951854, 'accomplish'),\n",
       " (-7.541093995549482, 'joke'),\n",
       " (-7.541241546496714, 'particip'),\n",
       " (-7.5420388016579984, 'ride'),\n",
       " (-7.542264066851362, 'riot'),\n",
       " (-7.542451974079971, 'protect'),\n",
       " (-7.542786997970158, 'william'),\n",
       " (-7.543100560299765, 'three'),\n",
       " (-7.5441052888146185, 'recent'),\n",
       " (-7.544118992553932, 'bad'),\n",
       " (-7.544472469639395, 'tell'),\n",
       " (-7.545164530620207, 'republ korea'),\n",
       " (-7.545613849274853, 'member'),\n",
       " (-7.54579842973948, 'water'),\n",
       " (-7.546329890045433, 'heard'),\n",
       " (-7.5463758137785835, 'rise'),\n",
       " (-7.546465813520824, 'lasri'),\n",
       " (-7.546569483821966, 'fall'),\n",
       " (-7.547109328172123, 'subscrib'),\n",
       " (-7.547299552919365, 'role'),\n",
       " (-7.547558065506882, 'help'),\n",
       " (-7.54797465343925, 'agreement'),\n",
       " (-7.548135691805209, 'fire'),\n",
       " (-7.5481938278254255, 'enforc'),\n",
       " (-7.548212901210466, 'promin'),\n",
       " (-7.548236575528447, 'rate'),\n",
       " (-7.5484082594505475, 'citi'),\n",
       " (-7.548694671211032, 'protest'),\n",
       " (-7.548908190094818, 'confid'),\n",
       " (-7.549283192303508, 'posit'),\n",
       " (-7.549433899005142, 'divers'),\n",
       " (-7.549767397811227, 'former'),\n",
       " (-7.549838959336335, 'administr'),\n",
       " (-7.550154892783587, 'york'),\n",
       " (-7.550154892783587, 'new york'),\n",
       " (-7.550536199151987, 'becom'),\n",
       " (-7.550674944452238, 'mask'),\n",
       " (-7.550963115454772, 'reason'),\n",
       " (-7.551322693486237, 'set'),\n",
       " (-7.551423366851803, 'commerc'),\n",
       " (-7.551777418472003, 'controversi'),\n",
       " (-7.551805512560695, 'total'),\n",
       " (-7.552053151896257, 'creativ'),\n",
       " (-7.55242737980647, 'heart'),\n",
       " (-7.552618289416366, 'pic twitter'),\n",
       " (-7.552618289416366, 'pic'),\n",
       " (-7.552630581848915, 'almost'),\n",
       " (-7.5527818706131855, 'home'),\n",
       " (-7.552893215571171, 'embed'),\n",
       " (-7.553560137923044, 'potenti'),\n",
       " (-7.553762538897159, 'wife'),\n",
       " (-7.55401662995268, 'answer'),\n",
       " (-7.55456787297641, 'left'),\n",
       " (-7.5548806393462185, 'mark'),\n",
       " (-7.555016839855035, 'editor'),\n",
       " (-7.5552057044406205, 'selfish'),\n",
       " (-7.555453725594495, 'open'),\n",
       " (-7.556091505666531, 'made'),\n",
       " (-7.556302196060914, 'latest'),\n",
       " (-7.556598854720152, 'rest'),\n",
       " (-7.556635643746231, 'area'),\n",
       " (-7.5567326809596524, 'man'),\n",
       " (-7.557060461080433, 'collect'),\n",
       " (-7.557699528378899, 'red'),\n",
       " (-7.557886130329141, 'life'),\n",
       " (-7.558352846129327, 'turn'),\n",
       " (-7.558542247101469, 'cold'),\n",
       " (-7.558816080896525, 'cite'),\n",
       " (-7.559298211023897, 'word'),\n",
       " (-7.559302369460481, 'immun system'),\n",
       " (-7.559648427764505, 'step'),\n",
       " (-7.559714429797832, 'other'),\n",
       " (-7.559852947726745, 'speak'),\n",
       " (-7.559853166928729, 'outsid'),\n",
       " (-7.560076865727659, 'profession'),\n",
       " (-7.5601481717768015, 'without'),\n",
       " (-7.560426531119592, 'hous'),\n",
       " (-7.560757337738435, 'cell'),\n",
       " (-7.561303801907528, 'hour'),\n",
       " (-7.56150831657629, 'secret'),\n",
       " (-7.5616012697322255, 'ground'),\n",
       " (-7.561950910954046, 'co'),\n",
       " (-7.562109829874764, 'issu'),\n",
       " (-7.56217369011027, 'deputi'),\n",
       " (-7.562338104747669, 'exactli'),\n",
       " (-7.56254039452973, 'syria'),\n",
       " (-7.562585792244023, 'tom'),\n",
       " (-7.5627670297226555, 'anonym'),\n",
       " (-7.563081617744057, 'avail'),\n",
       " (-7.56310958303929, 'major'),\n",
       " (-7.563275002740486, 'decid'),\n",
       " (-7.563308659012754, 'mom'),\n",
       " (-7.563558849923384, 'fund'),\n",
       " (-7.563835998882041, 'exampl'),\n",
       " (-7.563917350115877, 'big'),\n",
       " (-7.56401545898798, 'satan'),\n",
       " (-7.564136968160319, 'mar'),\n",
       " (-7.564266355923783, 'resourc'),\n",
       " (-7.564284080116041, 'record'),\n",
       " (-7.564567365198366, 'better'),\n",
       " (-7.564631539451016, 'radio'),\n",
       " (-7.564751530621045, 'abil'),\n",
       " (-7.564801757445321, 'bit'),\n",
       " (-7.564853945087584, 'natur'),\n",
       " (-7.564935959603257, 'execut'),\n",
       " (-7.564985153802031, 'bodi'),\n",
       " (-7.565311505519615, 'organ'),\n",
       " (-7.5656603073207105, 'ziegler'),\n",
       " (-7.565707220680908, 'korean'),\n",
       " (-7.566340104107653, 'oil'),\n",
       " (-7.566512048754062, 'away'),\n",
       " (-7.566515645915946, 'earth'),\n",
       " (-7.566720233565999, 'save'),\n",
       " (-7.566764397788787, 'thought'),\n",
       " (-7.5667743090864095, 'within'),\n",
       " (-7.5679776627344895, 'black'),\n",
       " (-7.568450669546004, 'activist'),\n",
       " (-7.568654460588672, 'deploy'),\n",
       " (-7.568660355877216, 'exercis'),\n",
       " (-7.568780103796345, 'seri'),\n",
       " (-7.56890260000314, 'sens'),\n",
       " (-7.569144581935843, 'night'),\n",
       " (-7.569677196975067, 'leader'),\n",
       " (-7.57020736132506, 'individu'),\n",
       " (-7.570251635406985, 'opposit'),\n",
       " (-7.570449642684798, 'model'),\n",
       " (-7.57045951200897, 'druckenmil'),\n",
       " (-7.570527829765096, 'start'),\n",
       " (-7.570559816663746, 'demand'),\n",
       " (-7.570595625661064, 'diseas'),\n",
       " (-7.570948101974251, 'firm'),\n",
       " (-7.570974707125318, 'epstein'),\n",
       " (-7.571133362081014, 'uk'),\n",
       " (-7.571265852168049, 'trade'),\n",
       " (-7.571364682984756, 'lie'),\n",
       " (-7.571526578857048, 'investor'),\n",
       " (-7.5717142148609105, 'obtain'),\n",
       " (-7.571928888330597, 'togeth'),\n",
       " (-7.57238162541182, 'stand rock'),\n",
       " (-7.57238162541182, 'nodapl'),\n",
       " (-7.572660992542316, 'readi'),\n",
       " (-7.572743705829126, 'respect'),\n",
       " (-7.57349816419963, 'rememb'),\n",
       " (-7.5739238204643184, 'india'),\n",
       " (-7.573940353946716, 'suppos'),\n",
       " (-7.574063041637802, 'forc'),\n",
       " (-7.574085576423966, 'bond'),\n",
       " (-7.574303968888541, 'despit'),\n",
       " (-7.574542086092601, 'sign'),\n",
       " (-7.574653919966177, 'number'),\n",
       " (-7.574838023928584, 'conserv'),\n",
       " (-7.574969247919275, 'bomb'),\n",
       " (-7.5752012490170175, 'approv'),\n",
       " (-7.575327380563605, 'corpor'),\n",
       " (-7.57583853540913, 'avoid'),\n",
       " (-7.576158495750311, 'pro'),\n",
       " (-7.5761781307332345, 'critic'),\n",
       " (-7.576577131721712, 'podesta'),\n",
       " (-7.576920736374015, 'either'),\n",
       " (-7.577016783240378, 'forget'),\n",
       " (-7.577058138268881, 'format'),\n",
       " (-7.577070662282201, 'ask'),\n",
       " (-7.577120145590992, 'idea'),\n",
       " (-7.577223967560723, 'translat'),\n",
       " (-7.577257429430212, 'band wrote'),\n",
       " (-7.577410826246388, 'arm'),\n",
       " (-7.577593369964549, 'staff'),\n",
       " (-7.577689579132849, 'husband'),\n",
       " (-7.5777056252562325, 'gld'),\n",
       " (-7.577871487460932, 'intern'),\n",
       " (-7.577898369844094, 'still'),\n",
       " (-7.578210374048575, 'billion'),\n",
       " (-7.578454177557323, 'massiv footprint'),\n",
       " (-7.578454177557323, 'be'),\n",
       " (-7.578480562561417, 'although'),\n",
       " (-7.5791734347124775, 'yesterday'),\n",
       " (-7.5795345422227705, 'applic'),\n",
       " (-7.579665704378336, 'balanc'),\n",
       " (-7.580363775498897, 'million peopl'),\n",
       " (-7.58071687697263, 'prior'),\n",
       " (-7.580873652010988, 'harford'),\n",
       " (-7.581322858355309, 'taylor'),\n",
       " (-7.581599274266932, 'alli'),\n",
       " (-7.582373485323785, 'singl'),\n",
       " (-7.5824997354175885, 'largest'),\n",
       " (-7.582657485089078, 'est'),\n",
       " (-7.582666674035562, 'gun'),\n",
       " (-7.582776418957353, 'certainli'),\n",
       " (-7.58285436042388, 'interview'),\n",
       " (-7.583042835803572, 'suspect'),\n",
       " (-7.583203496179667, 'rather'),\n",
       " (-7.583603589169158, 'tension'),\n",
       " (-7.583675655467029, 'put'),\n",
       " (-7.583776010648389, 'focu'),\n",
       " (-7.584257377485186, 'stock market'),\n",
       " (-7.585106084826601, 'key'),\n",
       " (-7.585416850599145, 'purpos'),\n",
       " (-7.585524147897968, 'appar'),\n",
       " (-7.585647095963708, 'best'),\n",
       " (-7.585776517532939, 'book'),\n",
       " (-7.585996787562276, 'indian'),\n",
       " (-7.586234512994836, 'activ'),\n",
       " (-7.586680779530292, 'tactic nuclear'),\n",
       " (-7.586754708477252, 'common'),\n",
       " (-7.586992466342433, 'action'),\n",
       " (-7.587003459294374, 'hear'),\n",
       " (-7.5872312596191875, 'deep state'),\n",
       " (-7.587306114089636, 'level'),\n",
       " (-7.587690140560512, 'damag'),\n",
       " (-7.588847917374789, 'teacher'),\n",
       " (-7.588955360389047, 'refer'),\n",
       " (-7.589404904412511, 'futur'),\n",
       " (-7.589554642970115, 'societi'),\n",
       " (-7.589883460548492, 'least'),\n",
       " (-7.589915495519046, 'cover'),\n",
       " (-7.589976154403056, 'ny'),\n",
       " (-7.590024395332274, 'rose'),\n",
       " (-7.590136428337638, 'fellow'),\n",
       " (-7.59031705414215, 'commun'),\n",
       " (-7.590335674122407, 'polici'),\n",
       " (-7.590407100756866, 'risk'),\n",
       " (-7.590756743861901, 'crime'),\n",
       " (-7.590925925885041, 'death'),\n",
       " (-7.5910069106710605, 'corrupt'),\n",
       " (-7.591057543766735, 'ad'),\n",
       " (-7.5911831680614, 'given'),\n",
       " (-7.591260960633892, 'biggest'),\n",
       " (-7.5914979842965336, 'huge'),\n",
       " (-7.591525572279762, 'prevent'),\n",
       " (-7.591526438937836, 'old'),\n",
       " (-7.591907134091736, 'prospect'),\n",
       " (-7.591946006308662, 'held'),\n",
       " (-7.591968196333277, 'discov'),\n",
       " (-7.5920760647661565, 'current'),\n",
       " (-7.592117089911805, 'liber'),\n",
       " (-7.592311987302245, 'analyst'),\n",
       " (-7.592721457503485, 'automat'),\n",
       " (-7.593157771043904, 'chief'),\n",
       " (-7.593291488884476, 'capit'),\n",
       " (-7.593513052359003, 'top'),\n",
       " (-7.593644487622955, 'financi'),\n",
       " (-7.593862689343223, 'men'),\n",
       " (-7.593884387411328, 'answer fleck'),\n",
       " (-7.594021637054464, 'press'),\n",
       " (-7.594176558288165, 'heart diseas'),\n",
       " (-7.594452570156497, 'debt'),\n",
       " (-7.594679277183963, 'build'),\n",
       " (-7.594823739107517, 'branch'),\n",
       " (-7.594844413793903, 'version'),\n",
       " (-7.594974291244781, 'front'),\n",
       " (-7.595086074261615, 'separ'),\n",
       " (-7.595132508959876, 'design'),\n",
       " (-7.595137375907698, 'nov'),\n",
       " (-7.595492404505958, 'serv'),\n",
       " (-7.5956377610827905, 'arriv'),\n",
       " (-7.5956817920046005, 'sever'),\n",
       " (-7.596192482096021, 'wednesday'),\n",
       " (-7.5963220226923, 'kubrick'),\n",
       " (-7.5965245192179935, 'throughout'),\n",
       " (-7.59653210659994, 'magazin'),\n",
       " (-7.5967655014302755, 'slv'),\n",
       " (-7.5967655014302755, 'open interest'),\n",
       " (-7.597189676263203, 'ahead'),\n",
       " (-7.597445080969975, 'begin'),\n",
       " (-7.59757703946167, 'soro'),\n",
       " (-7.597748025570969, 'young'),\n",
       " (-7.597826405660171, 'bush'),\n",
       " (-7.598047148064594, 'code'),\n",
       " (-7.598225120958884, 'promis'),\n",
       " (-7.59860930858673, 'reveal'),\n",
       " (-7.5993046171142336, 'tactic'),\n",
       " (-7.599431662389525, 'inc'),\n",
       " (-7.599461534829748, 'thank'),\n",
       " (-7.599488443237224, 'pipelin'),\n",
       " (-7.599605986725027, 'vice'),\n",
       " (-7.60009568927452, 'would like'),\n",
       " (-7.600114708524599, 'gain'),\n",
       " (-7.600438243111061, 'statement'),\n",
       " (-7.600682626905815, 'stay'),\n",
       " (-7.600824394083065, 'inde'),\n",
       " (-7.601268398893841, 'friend'),\n",
       " (-7.601612184317897, 'field'),\n",
       " (-7.602414400623042, 'die'),\n",
       " (-7.602801919371928, 'beyond'),\n",
       " (-7.602879416579203, 'afford'),\n",
       " (-7.603100040188432, 'technolog'),\n",
       " (-7.603129936683931, 'healthier'),\n",
       " (-7.603151947941942, 'white'),\n",
       " (-7.603178922225539, 'technic'),\n",
       " (-7.603247324538631, 'taken'),\n",
       " (-7.603326143410723, 'join'),\n",
       " (-7.603344840913016, 'averag'),\n",
       " (-7.60357520264861, 'pass'),\n",
       " (-7.603576047499065, 'fulli'),\n",
       " (-7.603578876018521, 'coupl'),\n",
       " (-7.603583210516901, 'peopl would'),\n",
       " (-7.603665092849061, 'especi'),\n",
       " (-7.603869926783114, 'indic'),\n",
       " (-7.603884794651473, 'assist'),\n",
       " (-7.604160888479659, 'gave'),\n",
       " (-7.604235573516584, 'structur'),\n",
       " (-7.604412250814824, 'test'),\n",
       " (-7.604676244181535, 'foreign'),\n",
       " (-7.604685679431004, 'footprint embed'),\n",
       " (-7.604685679431004, 'embed rock'),\n",
       " (-7.604721202270407, 'anyon'),\n",
       " (-7.604858242039441, 'matter'),\n",
       " (-7.604887775247313, 'oppos'),\n",
       " (-7.60524822642779, 'order'),\n",
       " (-7.605255951742503, 'journalist'),\n",
       " (-7.605284055550152, 'ralli'),\n",
       " (-7.605557432188624, 'fight'),\n",
       " (-7.605814131968255, 'defeat'),\n",
       " (-7.605963470689082, 'told'),\n",
       " (-7.606137840027284, 'choos'),\n",
       " (-7.606154761768432, 'enact'),\n",
       " (-7.606210794460637, 'situat'),\n",
       " (-7.606423128386804, 'highli'),\n",
       " (-7.6065120107007, 'lead'),\n",
       " (-7.606775909295052, 'final'),\n",
       " (-7.606783563601234, 'event'),\n",
       " (-7.607062886328467, 'blame'),\n",
       " (-7.607111497611612, 'moral'),\n",
       " (-7.607267303917041, 'sound'),\n",
       " (-7.607716271920393, 'moon'),\n",
       " (-7.6082102493800035, 'flag'),\n",
       " (-7.608284292083366, 'camp'),\n",
       " (-7.608744745432306, 'love'),\n",
       " (-7.608890853650705, 'law enforc'),\n",
       " (-7.609170626653415, 'bank'),\n",
       " (-7.6095176627575185, 'washington'),\n",
       " (-7.609750983878679, 'mayor'),\n",
       " (-7.610021831509717, 'buy'),\n",
       " (-7.6100333829087194, 'directli'),\n",
       " (-7.610191299661372, 'respond'),\n",
       " (-7.610198866000682, 'sea'),\n",
       " (-7.610293232998464, 'unlik'),\n",
       " (-7.610472778416163, 'comex'),\n",
       " (-7.610536300417523, 'conflict interest'),\n",
       " (-7.610794178657702, 'privat'),\n",
       " (-7.6112555590172075, 'awar'),\n",
       " (-7.611308657658036, 'blood'),\n",
       " (-7.611442459184325, 'wrong'),\n",
       " (-7.611542054486257, 'server'),\n",
       " (-7.611578298485968, 'recruit'),\n",
       " (-7.61167955404241, 'reportedli'),\n",
       " (-7.6117277442733755, 'certifi'),\n",
       " (-7.611965775341465, 'beer'),\n",
       " (-7.612012795139039, 'nick'),\n",
       " (-7.612023327271372, 'charact'),\n",
       " (-7.612224016355543, 'cut'),\n",
       " (-7.612521865018753, 'difficult'),\n",
       " (-7.612561650871439, 'violat'),\n",
       " (-7.612648050230052, 'remain'),\n",
       " (-7.612728630788215, 'complet'),\n",
       " (-7.613105493672877, 'lawyer'),\n",
       " (-7.613266594547023, 'year old'),\n",
       " (-7.613374045396599, 'donor'),\n",
       " (-7.613401978421299, 'engin'),\n",
       " (-7.613516055371021, 'figur'),\n",
       " (-7.614434708980012, 'launch'),\n",
       " (-7.614473970922565, 'short'),\n",
       " (-7.614669442676657, 'relationship'),\n",
       " (-7.614836024835171, 'realiz'),\n",
       " (-7.615296008867738, 'expert'),\n",
       " (-7.6153636628611885, 'leadership'),\n",
       " (-7.615624973354649, 'regard'),\n",
       " (-7.616121157753786, 'belong'),\n",
       " (-7.61625782723975, 'hell'),\n",
       " (-7.616342923178747, 'accept'),\n",
       " (-7.616485625686802, 'psycholog'),\n",
       " (-7.616485894767319, 'thu'),\n",
       " (-7.616546987806006, 'written'),\n",
       " (-7.616762028958997, 'instanc'),\n",
       " (-7.616764607685877, 'turkey'),\n",
       " (-7.616901098673956, 'decis'),\n",
       " (-7.617217719014843, 'standard'),\n",
       " (-7.617346968611835, 'signal'),\n",
       " (-7.61748969725098, 'white hous'),\n",
       " (-7.617562632455029, 'knew'),\n",
       " (-7.617718205189966, 'websit'),\n",
       " (-7.6181333984671395, 'project'),\n",
       " (-7.618231820161248, 'speech'),\n",
       " (-7.6184731782203325, 'particular'),\n",
       " (-7.6186434697443675, 'nice'),\n",
       " (-7.618822133004716, 'sander support'),\n",
       " (-7.619045506518359, 'alway'),\n",
       " (-7.619083710345302, 'dream'),\n",
       " (-7.619240556922501, 'announc'),\n",
       " (-7.619436899948136, 'quit'),\n",
       " (-7.619592565452535, 'europ'),\n",
       " (-7.619880070733901, 'south korea'),\n",
       " (-7.620004673044895, 'chelsea'),\n",
       " (-7.620152270875856, 'sold'),\n",
       " (-7.620301796364603, 'pki'),\n",
       " (-7.620708535072995, 'rais'),\n",
       " (-7.620951561502048, 'gop'),\n",
       " (-7.620983694303818, 'arrest'),\n",
       " (-7.6214284967288135, 'nomin'),\n",
       " (-7.621712869420114, 'ritual'),\n",
       " (-7.622114426108481, 'divid'),\n",
       " (-7.622296242650913, 'leak'),\n",
       " (-7.622395362347089, 'clue'),\n",
       " (-7.622552399003629, 'read'),\n",
       " (-7.622927119571606, 'vote machin'),\n",
       " (-7.623225326825035, 'half'),\n",
       " (-7.623470532723143, 'hard'),\n",
       " (-7.623917970904937, 'minut'),\n",
       " (-7.623940516187095, 'democraci'),\n",
       " (-7.623972867416987, 'agenda'),\n",
       " (-7.624043381192547, 'onto'),\n",
       " (-7.62435063579281, 'beauti'),\n",
       " (-7.624353043852166, 'currenc'),\n",
       " (-7.624431072748214, 'feder'),\n",
       " (-7.624526101258092, 'justic'),\n",
       " (-7.624962292528353, 'increas'),\n",
       " (-7.6249685959928115, 'victim'),\n",
       " (-7.625020464082364, 'function'),\n",
       " (-7.625494276266781, 'solut'),\n",
       " (-7.625577185680206, 'export'),\n",
       " (-7.62566032842289, 'independ'),\n",
       " (-7.625674666118502, 'meant'),\n",
       " (-7.6256791374065385, 'clearli'),\n",
       " (-7.625855686328955, 'seen'),\n",
       " (-7.625997517439353, 'emphas'),\n",
       " (-7.6262208172535875, 'loan'),\n",
       " (-7.626776584467964, 'accus'),\n",
       " (-7.626828999228482, 'suffer'),\n",
       " (-7.627027743136251, 'clear'),\n",
       " (-7.627129972110409, 'deutsch bank'),\n",
       " (-7.627429535835184, 'poll'),\n",
       " (-7.627619135608546, 'nsa'),\n",
       " (-7.627814407412644, 'intent'),\n",
       " (-7.627953697876822, 'secret societi'),\n",
       " (-7.628011796702767, 'murder'),\n",
       " (-7.6281646453525545, 'period'),\n",
       " (-7.628198847731084, 'took'),\n",
       " (-7.628255062968277, 'kid'),\n",
       " (-7.628322402864408, 'prepar'),\n",
       " (-7.628646225735719, 'commerci'),\n",
       " (-7.628758721048144, 'treat'),\n",
       " (-7.628758721048144, 'adult'),\n",
       " (-7.628842261863548, 'repli'),\n",
       " (-7.628864867361474, 'lower'),\n",
       " (-7.629094184378598, 'propaganda'),\n",
       " (-7.629593215328039, 'term'),\n",
       " (-7.629609959196742, 'magic'),\n",
       " (-7.629628408665598, 'bring'),\n",
       " (-7.629681986459915, 'special'),\n",
       " (-7.629995565367293, 'us tactic'),\n",
       " (-7.630269936993708, 'congress'),\n",
       " (-7.630311040200567, 'particl'),\n",
       " (-7.630369964188711, 'explos'),\n",
       " (-7.630419022303634, 'jame'),\n",
       " (-7.630435357856625, 'farm'),\n",
       " (-7.630468899930539, 'viewer'),\n",
       " (-7.6304958877311915, 'nearli'),\n",
       " (-7.630509904479366, 'consequ'),\n",
       " (-7.630684630643504, 'financ'),\n",
       " (-7.630771140903965, 'jame comey'),\n",
       " (-7.631233134380528, 'moment'),\n",
       " (-7.631377539379329, 'scene'),\n",
       " (-7.631446480688103, 'anyth'),\n",
       " (-7.631505837625288, 'cnn'),\n",
       " (-7.63190031782844, 'reserv'),\n",
       " (-7.632013165135442, 'rose contract'),\n",
       " (-7.632030989470069, 'pull'),\n",
       " (-7.632267451009835, 'tuesday'),\n",
       " (-7.632283554351638, 'nativ american'),\n",
       " (-7.6323853936636645, 'child'),\n",
       " (-7.632410328089914, 'stage'),\n",
       " (-7.6325488701091375, 'suggest'),\n",
       " (-7.632557147573679, 'charg'),\n",
       " (-7.6327024977767985, 'will'),\n",
       " (-7.632735148574459, 'across'),\n",
       " (-7.632747294288225, 'among'),\n",
       " (-7.632878882002002, 'past'),\n",
       " (-7.632906567270667, 'aid'),\n",
       " (-7.633038004352922, 'take place'),\n",
       " (-7.633124118344665, 'finger'),\n",
       " (-7.63313499942805, 'leav'),\n",
       " (-7.633259267264488, 'explain'),\n",
       " (-7.633307043560804, 'deutsch'),\n",
       " (-7.63358571286399, 'bar'),\n",
       " (-7.633593086682623, 'injuri'),\n",
       " (-7.633639882548521, 'smartmat'),\n",
       " (-7.633639882548521, 'patent'),\n",
       " (-7.633639882548521, 'base one'),\n",
       " (-7.633697999939336, 'danger'),\n",
       " (-7.6337081207935045, 'ye'),\n",
       " (-7.633729104239936, 'account'),\n",
       " (-7.6338585480325785, 'intellig'),\n",
       " (-7.634139361076687, 'attack'),\n",
       " (-7.63454886734306, 'servic'),\n",
       " (-7.634652410713471, 'third'),\n",
       " (-7.634856679832141, 'presidenti candid'),\n",
       " (-7.634879130382024, 'china'),\n",
       " (-7.635034745022312, 'hack'),\n",
       " (-7.635087051575382, 'forward'),\n",
       " (-7.6353979675695385, 'agenc'),\n",
       " (-7.6354931797678995, 'lost'),\n",
       " (-7.635639895633889, 'pre'),\n",
       " (-7.635647069791144, 'suppli'),\n",
       " (-7.635705971308912, 'world news'),\n",
       " (-7.635972028585672, 'outcom'),\n",
       " (-7.636329808065396, 'insid'),\n",
       " (-7.636330479680353, 'process'),\n",
       " (-7.636336568100659, 'wall'),\n",
       " (-7.6363713517260265, 'defens'),\n",
       " (-7.636720981673512, 'annual'),\n",
       " (-7.6369521311870106, 'north dakota'),\n",
       " (-7.637298612336743, 'opinion'),\n",
       " (-7.637323452028289, 'mainstream media'),\n",
       " (-7.637323452028289, 'mainstream'),\n",
       " (-7.637380816030317, 'known'),\n",
       " (-7.637404640703344, 'placement'),\n",
       " (-7.637426567410184, 'debat'),\n",
       " (-7.637555292231669, 'sent'),\n",
       " (-7.637571007113795, 'cancer'),\n",
       " (-7.637592147444599, 'cooper'),\n",
       " (-7.6376512072936205, 'push'),\n",
       " (-7.637698896780056, 'neg'),\n",
       " (-7.637801990406088, 'california'),\n",
       " (-7.638039099300931, 'disappoint'),\n",
       " (-7.638069005578657, 'upon'),\n",
       " (-7.638632506185157, 'yuan'),\n",
       " (-7.638780688821644, 'hand'),\n",
       " (-7.638933485451716, 'affect'),\n",
       " (-7.63899797683899, 'tough'),\n",
       " (-7.639009426294404, 'move forward'),\n",
       " (-7.639054163250259, 'draft'),\n",
       " (-7.63916985257485, 'john'),\n",
       " (-7.63941080382039, 'whether'),\n",
       " (-7.639551739823167, 'got'),\n",
       " (-7.63965152642767, 'hit'),\n",
       " (-7.639660964575422, 'previou'),\n",
       " (-7.6398495497378525, 'goe'),\n",
       " (-7.6399304748664285, 'threaten'),\n",
       " (-7.639949057915177, 'depend'),\n",
       " (-7.64001853500425, 'necessari'),\n",
       " (-7.640031545047607, 'unless'),\n",
       " (-7.640074016671128, 'western'),\n",
       " (-7.6401159337782865, 'god'),\n",
       " (-7.6401317484196865, 'declin'),\n",
       " (-7.6405398474327955, 'probe'),\n",
       " (-7.640561001929477, 'secretari'),\n",
       " (-7.6406674540215604, 'simpli'),\n",
       " (-7.6411677460947365, 'social'),\n",
       " (-7.641210364389006, 'prove'),\n",
       " (-7.641399642452646, 'peac'),\n",
       " (-7.641412357732639, 'amount'),\n",
       " (-7.641680367419151, 'street'),\n",
       " (-7.6417246140618795, 'deal'),\n",
       " (-7.641966416110889, 'worri'),\n",
       " (-7.642059574868098, 'bridg'),\n",
       " ...]"
      ]
     },
     "execution_count": 47,
     "metadata": {},
     "output_type": "execute_result"
    }
   ],
   "source": [
    "sorted(zip(classifier.coef_[0],feature_names),reverse=True)[:2000]"
   ]
  },
  {
   "cell_type": "markdown",
   "metadata": {},
   "source": [
    "# HashingVectorizer"
   ]
  },
  {
   "cell_type": "code",
   "execution_count": 48,
   "metadata": {},
   "outputs": [],
   "source": [
    "from sklearn.feature_extraction.text import TfidfVectorizer, CountVectorizer, HashingVectorizer"
   ]
  },
  {
   "cell_type": "code",
   "execution_count": 49,
   "metadata": {},
   "outputs": [],
   "source": [
    "hs_vectorizer=HashingVectorizer(n_features=2000)\n"
   ]
  },
  {
   "cell_type": "code",
   "execution_count": 50,
   "metadata": {},
   "outputs": [],
   "source": [
    "x_hv=hs_vectorizer.fit_transform(corpus).toarray()"
   ]
  },
  {
   "cell_type": "code",
   "execution_count": 51,
   "metadata": {},
   "outputs": [
    {
     "data": {
      "text/plain": [
       "(88, 2000)"
      ]
     },
     "execution_count": 51,
     "metadata": {},
     "output_type": "execute_result"
    }
   ],
   "source": [
    "x_hv.shape"
   ]
  },
  {
   "cell_type": "code",
   "execution_count": 52,
   "metadata": {},
   "outputs": [
    {
     "data": {
      "text/plain": [
       "array([[ 0.        ,  0.        ,  0.        , ...,  0.        ,\n",
       "         0.        ,  0.        ],\n",
       "       [ 0.        ,  0.        ,  0.        , ...,  0.        ,\n",
       "         0.        , -0.01794606],\n",
       "       [ 0.        ,  0.        , -0.05725983, ...,  0.        ,\n",
       "         0.        ,  0.        ],\n",
       "       ...,\n",
       "       [ 0.        ,  0.        ,  0.        , ...,  0.        ,\n",
       "         0.        ,  0.        ],\n",
       "       [ 0.        ,  0.        ,  0.        , ...,  0.        ,\n",
       "         0.        ,  0.        ],\n",
       "       [ 0.        ,  0.        ,  0.        , ...,  0.        ,\n",
       "         0.        , -0.05612135]])"
      ]
     },
     "execution_count": 52,
     "metadata": {},
     "output_type": "execute_result"
    }
   ],
   "source": [
    "x_hv"
   ]
  },
  {
   "cell_type": "code",
   "execution_count": 53,
   "metadata": {},
   "outputs": [],
   "source": [
    "# Divide the dataset into train and test\n",
    "\n",
    "from sklearn.model_selection import train_test_split\n",
    "x1_train,x1_test,y1_train,y1_test=train_test_split(x_hv,Y,test_size=0.2,random_state=0)\n",
    "\n"
   ]
  },
  {
   "cell_type": "code",
   "execution_count": 54,
   "metadata": {},
   "outputs": [
    {
     "data": {
      "text/plain": [
       "(70, 2000)"
      ]
     },
     "execution_count": 54,
     "metadata": {},
     "output_type": "execute_result"
    }
   ],
   "source": [
    "x1_train.shape"
   ]
  },
  {
   "cell_type": "code",
   "execution_count": 55,
   "metadata": {},
   "outputs": [
    {
     "data": {
      "text/plain": [
       "(18, 2000)"
      ]
     },
     "execution_count": 55,
     "metadata": {},
     "output_type": "execute_result"
    }
   ],
   "source": [
    "x1_test.shape"
   ]
  },
  {
   "cell_type": "code",
   "execution_count": 56,
   "metadata": {},
   "outputs": [
    {
     "data": {
      "text/plain": [
       "(70,)"
      ]
     },
     "execution_count": 56,
     "metadata": {},
     "output_type": "execute_result"
    }
   ],
   "source": [
    "y1_train.shape"
   ]
  },
  {
   "cell_type": "code",
   "execution_count": 57,
   "metadata": {},
   "outputs": [
    {
     "data": {
      "text/plain": [
       "(18,)"
      ]
     },
     "execution_count": 57,
     "metadata": {},
     "output_type": "execute_result"
    }
   ],
   "source": [
    "y1_test.shape"
   ]
  },
  {
   "cell_type": "code",
   "execution_count": 58,
   "metadata": {},
   "outputs": [
    {
     "data": {
      "text/plain": [
       "'  from sklearn.preprocessing import Normalizer\\nnormalizer=Normalizer()\\n\\nx1_train=normalizer.fit_transform(x1_train)\\nx1_test=normalizer.fit_transform(x1_test)\\n\\nx_test.shape\\n'"
      ]
     },
     "execution_count": 58,
     "metadata": {},
     "output_type": "execute_result"
    }
   ],
   "source": [
    "\"\"\"  from sklearn.preprocessing import Normalizer\n",
    "normalizer=Normalizer()\n",
    "\n",
    "x1_train=normalizer.fit_transform(x1_train)\n",
    "x1_test=normalizer.fit_transform(x1_test)\n",
    "\n",
    "x_test.shape\n",
    "\"\"\""
   ]
  },
  {
   "cell_type": "code",
   "execution_count": 59,
   "metadata": {},
   "outputs": [],
   "source": [
    "from sklearn.preprocessing import MinMaxScaler\n",
    "scaler=MinMaxScaler()\n",
    "x1_train=scaler.fit_transform(x1_train)\n",
    "x1_test=scaler.fit_transform(x1_test)"
   ]
  },
  {
   "cell_type": "code",
   "execution_count": 60,
   "metadata": {},
   "outputs": [
    {
     "data": {
      "text/plain": [
       "array([[0.48207992, 0.68729167, 0.3157129 , ..., 0.26845279, 0.79179696,\n",
       "        0.81730798],\n",
       "       [0.48207992, 0.68729167, 0.        , ..., 0.26845279, 0.79179696,\n",
       "        0.68297877],\n",
       "       [0.60227258, 0.68729167, 0.3157129 , ..., 0.46924556, 1.        ,\n",
       "        0.81730798],\n",
       "       ...,\n",
       "       [0.48207992, 0.68729167, 0.3157129 , ..., 0.26845279, 0.79179696,\n",
       "        0.29386798],\n",
       "       [0.48207992, 0.68729167, 0.3157129 , ..., 0.26845279, 0.79179696,\n",
       "        0.81730798],\n",
       "       [0.48207992, 0.68729167, 0.3157129 , ..., 0.26845279, 0.79179696,\n",
       "        0.81730798]])"
      ]
     },
     "execution_count": 60,
     "metadata": {},
     "output_type": "execute_result"
    }
   ],
   "source": [
    "x1_train"
   ]
  },
  {
   "cell_type": "code",
   "execution_count": 61,
   "metadata": {},
   "outputs": [
    {
     "data": {
      "text/plain": [
       "array([[0.        , 0.        , 0.        , ..., 0.        , 0.        ,\n",
       "        1.        ],\n",
       "       [0.        , 0.        , 1.        , ..., 0.        , 0.        ,\n",
       "        0.63816048],\n",
       "       [0.        , 0.        , 1.        , ..., 0.        , 0.        ,\n",
       "        1.        ],\n",
       "       ...,\n",
       "       [0.        , 0.        , 1.        , ..., 0.        , 0.        ,\n",
       "        0.32166017],\n",
       "       [0.        , 0.        , 1.        , ..., 0.        , 0.        ,\n",
       "        1.        ],\n",
       "       [0.        , 0.        , 1.        , ..., 0.        , 0.        ,\n",
       "        0.69176292]])"
      ]
     },
     "execution_count": 61,
     "metadata": {},
     "output_type": "execute_result"
    }
   ],
   "source": [
    "x1_test"
   ]
  },
  {
   "cell_type": "code",
   "execution_count": 62,
   "metadata": {},
   "outputs": [
    {
     "data": {
      "text/plain": [
       "(70,)"
      ]
     },
     "execution_count": 62,
     "metadata": {},
     "output_type": "execute_result"
    }
   ],
   "source": [
    "y1_train.shape"
   ]
  },
  {
   "cell_type": "code",
   "execution_count": 63,
   "metadata": {},
   "outputs": [
    {
     "data": {
      "text/plain": [
       "(18,)"
      ]
     },
     "execution_count": 63,
     "metadata": {},
     "output_type": "execute_result"
    }
   ],
   "source": [
    "y1_test.shape"
   ]
  },
  {
   "cell_type": "code",
   "execution_count": 64,
   "metadata": {},
   "outputs": [
    {
     "name": "stdout",
     "output_type": "stream",
     "text": [
      "accuracy: 0.556\n"
     ]
    },
    {
     "data": {
      "image/png": "[encoded data removed]",
      "text/plain": [
       "<Figure size 432x288 with 2 Axes>"
      ]
     },
     "metadata": {
      "needs_background": "light"
     },
     "output_type": "display_data"
    }
   ],
   "source": [
    "classifier2=classifier.fit(x1_train,y1_train)\n",
    "y_pred=classifier2.predict(x1_test)\n",
    "score=metrics.accuracy_score(y1_test,y_pred)\n",
    "print(\"accuracy: %0.3f\"% score)\n",
    "\n",
    "from sklearn.metrics import plot_confusion_matrix\n",
    "display=plot_confusion_matrix(classifier1,x1_test,y1_test,\n",
    "                              cmap=plt.cm.Blues,\n",
    "                              normalize='true')"
   ]
  },
  {
   "cell_type": "code",
   "execution_count": null,
   "metadata": {},
   "outputs": [],
   "source": []
  },
  {
   "cell_type": "code",
   "execution_count": null,
   "metadata": {},
   "outputs": [],
   "source": []
  }
 ],
 "metadata": {
  "kernelspec": {
   "display_name": "Python 3",
   "language": "python",
   "name": "python3"
  },
  "language_info": {
   "codemirror_mode": {
    "name": "ipython",
    "version": 3
   },
   "file_extension": ".py",
   "mimetype": "text/x-python",
   "name": "python",
   "nbconvert_exporter": "python",
   "pygments_lexer": "ipython3",
   "version": "3.7.4"
  }
 },
 "nbformat": 4,
 "nbformat_minor": 2
}
